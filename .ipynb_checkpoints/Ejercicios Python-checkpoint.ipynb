{
 "cells": [
  {
   "cell_type": "markdown",
   "id": "d6cb9fdd-909f-478f-a45a-3c5e9aa4fa17",
   "metadata": {
    "scrolled": true
   },
   "source": [
    "1. Escribe un programa que muestre por pantalla la concatenación de un número y una cadena de caracteres. Para obtener esta concatenación puedes usar uno de los operadores explicados en este tema. Ejemplo: dado el número 3 y la cadena 'abc', el programa mostrará la cadena '3abc'.\n",
    "\n",
    "2. Escribe un programa que muestre por pantalla un valor booleano que indique si un número entero *N* está contenido en un intervalo semiabierto *[a,b)*, el cual establece una cota inferior *a* (inclusive) y una cota superior *b* (exclusive) para *N*.\n",
    "\n",
    "3. Escribe un programa que, dado dos strings *S1* y *S2* y dos números enteros *N1* y *N2*, determine si el substring que en *S1* se extiende desde la posición *N1* a la *N2* (ambos inclusive) está contenido en *S2*.\n",
    "\n",
    "4. Dada una *lista* con elementos duplicados, escribir un programa que muestre una nueva *lista* con el mismo contenido que la primera pero sin elementos duplicados.\n",
    "\n",
    "5. Escribe un programa que, dada una *lista* de strings *L*, un string *s* perteneciente a *L* y un string *t*, reemplace *s* por *t* en *L*. El programa debe mostrar la lista resultante por pantalla.\n",
    "\n",
    "6. Escribe un programa que defina una *tupla* con elementos numéricos, reemplace el valor del último por un valor diferente y muestre la *tupla* por pantalla. Recuerda que las *tuplas* son inmutables. Tendrás que usar objetos intermedios.\n",
    "\n",
    "7. Dada la lista [1,2,3,4,5,6,7,8] escribe un programa que, a partir de esta lista, obtenga la lista [8,6,4,2] y la muestre por pantalla.\n",
    "\n",
    "8. Escribe un programa que, dada una tupla y un índice válido *i*, elimine el elemento de la tupla que se encuentra en la posición *i*. Para este ejercicio sólo puedes usar objetos de tipo tupla. No puedes convetir la *tupla* a una *lista*, por ejemplo.\n",
    "\n",
    "9. Escribe un programa que obtenga la mediana de una *lista* de números. Recuerda que la mediana *M* de una lista de números *L* es el número que cumple la siguiente propiedad: la mitad de los números de *L* son superiores a *M* y la otra mitad son inferiores. Cuando el número de elementos de *L* es par, se puede considerar que hay dos medianas. No obstante, en este ejercicio consideraremos que únicamente existe una mediana."
   ]
  },
  {
   "cell_type": "code",
   "execution_count": 14,
   "id": "9c3982ca-231f-43af-a339-00799f476453",
   "metadata": {
    "scrolled": true
   },
   "outputs": [
    {
     "name": "stdout",
     "output_type": "stream",
     "text": [
      "3asd\n"
     ]
    }
   ],
   "source": [
    "# Ejercicio 1\n",
    "cadena = \"asd\"\n",
    "numero = 3\n",
    "print(str(numero) + cadena)"
   ]
  },
  {
   "cell_type": "code",
   "execution_count": 30,
   "id": "d5ca313b-af50-42c2-8650-8c3906f3c7f3",
   "metadata": {},
   "outputs": [
    {
     "name": "stdout",
     "output_type": "stream",
     "text": [
      "False\n",
      "<class 'range'>\n"
     ]
    }
   ],
   "source": [
    "# Ejercicio 2\n",
    "numero = 5\n",
    "print(numero in range(1,5))\n",
    "print(type(range(1,2)))"
   ]
  },
  {
   "cell_type": "code",
   "execution_count": 46,
   "id": "d959b47c-8847-4da4-82de-64229b928650",
   "metadata": {},
   "outputs": [
    {
     "name": "stdout",
     "output_type": "stream",
     "text": [
      "la,\n",
      "True\n"
     ]
    }
   ],
   "source": [
    "# Ejercicio 3\n",
    "n1 = 2\n",
    "n2 = 5\n",
    "s1 = \"hola,\"\n",
    "s2 = \" mi, la, sol.\"\n",
    "print(s1[n1:n2+1])\n",
    "print(s1[n1:n2+1] in s2)"
   ]
  },
  {
   "cell_type": "code",
   "execution_count": 50,
   "id": "4fda1a4e-f311-41db-9291-3feb2d35369f",
   "metadata": {},
   "outputs": [
    {
     "name": "stdout",
     "output_type": "stream",
     "text": [
      "[1, 2, 3, 4, 5, 6, 7]\n"
     ]
    }
   ],
   "source": [
    "# Ejercicio 4\n",
    "lista = [1,1,2,2,3,4,5,3,5,6,1,2,3,6,4,5,7]\n",
    "sin_duplicados = list(set(lista))\n",
    "print(sin_duplicados)"
   ]
  },
  {
   "cell_type": "markdown",
   "id": "3358229b-cc08-4fcd-8447-d7df4069351c",
   "metadata": {},
   "source": []
  },
  {
   "cell_type": "code",
   "execution_count": 70,
   "id": "f61be5d0-a93a-4625-8fc7-c5168fcff6e0",
   "metadata": {},
   "outputs": [
    {
     "name": "stdout",
     "output_type": "stream",
     "text": [
      "['bonjour', 'chau', 'hello', 'bye']\n"
     ]
    }
   ],
   "source": [
    "# Ejercicio 5: Escribe un programa que, dada una *lista* de strings *L*, un string *s* perteneciente a *L* y un string *t*, \n",
    "# reemplace *s* por *t* en *L*. El programa debe mostrar la lista resultante por pantalla.\n",
    "\n",
    "L = [\"hola\", \"chau\", \"hello\", \"bye\"]\n",
    "s = \"hola\"\n",
    "t = \"bonjour\"\n",
    "if(s in L):\n",
    "    indice = L.index(s)\n",
    "    L[indice] = t\n",
    "print(L)"
   ]
  },
  {
   "cell_type": "code",
   "execution_count": 74,
   "id": "a85f61ec-92e8-4050-ba1b-93151385cc42",
   "metadata": {},
   "outputs": [
    {
     "name": "stdout",
     "output_type": "stream",
     "text": [
      "(1, 3, 5, 7, 9)\n",
      "(1, 3, 5, 7, 8)\n"
     ]
    }
   ],
   "source": [
    "# Ejercicio 6:\n",
    "# Escribe un programa que defina una *tupla* con elementos numéricos, reemplace el valor del último por un valor diferente \n",
    "# y muestre la *tupla* por pantalla. Recuerda que las *tuplas* son inmutables. Tendrás que usar objetos intermedios.\n",
    "\n",
    "tupla = (1,3,5,7,9)\n",
    "print(tupla)\n",
    "lista = list(tupla)\n",
    "lista[-1] = 8\n",
    "tupla = tuple(lista)\n",
    "print(tupla)"
   ]
  },
  {
   "cell_type": "code",
   "execution_count": 86,
   "id": "0c49d696-ccd6-473f-a50c-dcec8c3c1d4a",
   "metadata": {},
   "outputs": [
    {
     "name": "stdout",
     "output_type": "stream",
     "text": [
      "[8, 6, 4, 2]\n"
     ]
    }
   ],
   "source": [
    "# Ejercicio 7:\n",
    "# Dada la lista [1,2,3,4,5,6,7,8] escribe un programa que, a partir de esta lista, obtenga la lista [8,6,4,2] y la muestre por pantalla.\n",
    "\n",
    "lista = [1,2,3,4,5,6,7,8]\n",
    "print(lista[-1:0:-2])"
   ]
  },
  {
   "cell_type": "code",
   "execution_count": 102,
   "id": "93fd83df-d6ea-4f09-881b-7b039d74e739",
   "metadata": {},
   "outputs": [
    {
     "name": "stdout",
     "output_type": "stream",
     "text": [
      "(1, 3, 7, 9)\n"
     ]
    }
   ],
   "source": [
    "# Ejercicio 8:\n",
    "# Escribe un programa que, dada una tupla y un índice válido *i*, elimine el elemento de la tupla que se encuentra en la posición *i*. \n",
    "# Para este ejercicio sólo puedes usar objetos de tipo tupla. No puedes convetir la *tupla* a una *lista*, por ejemplo.\n",
    "\n",
    "tupla = (1,3,5,7,9)\n",
    "indice = 2\n",
    "nueva_tupla = tupla[:indice] + tupla[indice+1:]\n",
    "print(nueva_tupla)"
   ]
  },
  {
   "cell_type": "code",
   "execution_count": 114,
   "id": "2c2f55bd-01ec-4b02-bc54-21706ee407e8",
   "metadata": {},
   "outputs": [
    {
     "name": "stdout",
     "output_type": "stream",
     "text": [
      "[1, 2, 3, 4, 5, 6, 7, 8, 9]\n",
      "5\n"
     ]
    }
   ],
   "source": [
    "# Ejercicio 9:\n",
    "# Escribe un programa que obtenga la mediana de una *lista* de números. \n",
    "# Recuerda que la mediana *M* de una lista de números *L* es el número que cumple la siguiente propiedad: \n",
    "  # la mitad de los números de *L* son superiores a *M* y la otra mitad son inferiores. \n",
    "  # Cuando el número de elementos de *L* es par, se puede considerar que hay dos medianas. \n",
    "  # No obstante, en este ejercicio consideraremos que únicamente existe una mediana.\n",
    "\n",
    "lista = [9,4,1,7,2,3,8,6,5]\n",
    "lista.sort()\n",
    "print(lista)\n",
    "print(lista[len(lista)//2])"
   ]
  },
  {
   "cell_type": "markdown",
   "id": "f231e33f-d595-42f9-9980-8f6fe4e8a421",
   "metadata": {},
   "source": [
    "Hola, dejo unas consultas orientadas a la optimizacion/performance sobre algunos de los ejercicios propuestos.\n",
    "\n",
    "En el ejercicio 2, se plantea identificar si un numero esta dentro de un rango. El notebook de la clase lo resuelve con: print(a <= N and N < b), pero yo lo resolvi con print(numero in range(a,b)).\n",
    "Me atrae mas la 2da forma por ser mas declarativa/legible, pero entiendo que estoy creando un objeto 'range', y en la solucion de la catedra no, ahorrando memoria. Habria problema con mi solucion en cuanto a performance cuando el rango creado sea de millones por ejemplo?\n",
    "\n",
    "En el ejercicio 5, si el string \"s\" no esta dentro de la lista \"L\", el script da un error: ValueError: 'Test' is not in list.\n",
    "Para que eso no pase, le agregue un if(s in L), pero sera esta la forma mas optima de hacerlo? ya que estoy primero chequeando con un \"in\" y luego buscando el indice con \"index\", seria como una doble busqueda dentro de la lista con costo maximo de 0(2n). La 3er linea busca por indice asi que el costo de esta linea seria 0(1):\n",
    "if(s in L):\n",
    "    indice = L.index(s)\n",
    "    L[indice] = t\n",
    "\n",
    "Gracias!"
   ]
  }
 ],
 "metadata": {
  "kernelspec": {
   "display_name": "Python 3 (ipykernel)",
   "language": "python",
   "name": "python3"
  },
  "language_info": {
   "codemirror_mode": {
    "name": "ipython",
    "version": 3
   },
   "file_extension": ".py",
   "mimetype": "text/x-python",
   "name": "python",
   "nbconvert_exporter": "python",
   "pygments_lexer": "ipython3",
   "version": "3.12.4"
  }
 },
 "nbformat": 4,
 "nbformat_minor": 5
}
