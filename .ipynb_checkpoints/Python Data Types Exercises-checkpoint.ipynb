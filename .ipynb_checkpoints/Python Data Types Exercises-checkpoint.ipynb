{
 "cells": [
  {
   "cell_type": "markdown",
   "id": "d6cb9fdd-909f-478f-a45a-3c5e9aa4fa17",
   "metadata": {
    "scrolled": true
   },
   "source": [
    "1. Escribe un programa que muestre por pantalla la concatenación de un número y una cadena de caracteres. Para obtener esta concatenación puedes usar uno de los operadores explicados en este tema. Ejemplo: dado el número 3 y la cadena 'abc', el programa mostrará la cadena '3abc'.\n",
    "\n",
    "2. Escribe un programa que muestre por pantalla un valor booleano que indique si un número entero *N* está contenido en un intervalo semiabierto *[a,b)*, el cual establece una cota inferior *a* (inclusive) y una cota superior *b* (exclusive) para *N*.\n",
    "\n",
    "3. Escribe un programa que, dado dos strings *S1* y *S2* y dos números enteros *N1* y *N2*, determine si el substring que en *S1* se extiende desde la posición *N1* a la *N2* (ambos inclusive) está contenido en *S2*.\n",
    "\n",
    "4. Dada una *lista* con elementos duplicados, escribir un programa que muestre una nueva *lista* con el mismo contenido que la primera pero sin elementos duplicados.\n",
    "\n",
    "5. Escribe un programa que, dada una *lista* de strings *L*, un string *s* perteneciente a *L* y un string *t*, reemplace *s* por *t* en *L*. El programa debe mostrar la lista resultante por pantalla.\n",
    "\n",
    "6. Escribe un programa que defina una *tupla* con elementos numéricos, reemplace el valor del último por un valor diferente y muestre la *tupla* por pantalla. Recuerda que las *tuplas* son inmutables. Tendrás que usar objetos intermedios.\n",
    "\n",
    "7. Dada la lista [1,2,3,4,5,6,7,8] escribe un programa que, a partir de esta lista, obtenga la lista [8,6,4,2] y la muestre por pantalla.\n",
    "\n",
    "8. Escribe un programa que, dada una tupla y un índice válido *i*, elimine el elemento de la tupla que se encuentra en la posición *i*. Para este ejercicio sólo puedes usar objetos de tipo tupla. No puedes convetir la *tupla* a una *lista*, por ejemplo.\n",
    "\n",
    "9. Escribe un programa que obtenga la mediana de una *lista* de números. Recuerda que la mediana *M* de una lista de números *L* es el número que cumple la siguiente propiedad: la mitad de los números de *L* son superiores a *M* y la otra mitad son inferiores. Cuando el número de elementos de *L* es par, se puede considerar que hay dos medianas. No obstante, en este ejercicio consideraremos que únicamente existe una mediana."
   ]
  },
  {
   "cell_type": "code",
   "execution_count": 14,
   "id": "9c3982ca-231f-43af-a339-00799f476453",
   "metadata": {
    "scrolled": true
   },
   "outputs": [
    {
     "name": "stdout",
     "output_type": "stream",
     "text": [
      "3asd\n"
     ]
    }
   ],
   "source": [
    "# Ejercicio 1\n",
    "cadena = \"asd\"\n",
    "numero = 3\n",
    "print(str(numero) + cadena)"
   ]
  },
  {
   "cell_type": "code",
   "execution_count": 30,
   "id": "d5ca313b-af50-42c2-8650-8c3906f3c7f3",
   "metadata": {},
   "outputs": [
    {
     "name": "stdout",
     "output_type": "stream",
     "text": [
      "False\n",
      "<class 'range'>\n"
     ]
    }
   ],
   "source": [
    "# Ejercicio 2\n",
    "numero = 5\n",
    "print(numero in range(1,5))\n",
    "print(type(range(1,2)))"
   ]
  },
  {
   "cell_type": "code",
   "execution_count": 46,
   "id": "d959b47c-8847-4da4-82de-64229b928650",
   "metadata": {},
   "outputs": [
    {
     "name": "stdout",
     "output_type": "stream",
     "text": [
      "la,\n",
      "True\n"
     ]
    }
   ],
   "source": [
    "# Ejercicio 3\n",
    "n1 = 2\n",
    "n2 = 5\n",
    "s1 = \"hola,\"\n",
    "s2 = \" mi, la, sol.\"\n",
    "print(s1[n1:n2+1])\n",
    "print(s1[n1:n2+1] in s2)"
   ]
  },
  {
   "cell_type": "code",
   "execution_count": 50,
   "id": "4fda1a4e-f311-41db-9291-3feb2d35369f",
   "metadata": {},
   "outputs": [
    {
     "name": "stdout",
     "output_type": "stream",
     "text": [
      "[1, 2, 3, 4, 5, 6, 7]\n"
     ]
    }
   ],
   "source": [
    "# Ejercicio 4\n",
    "lista = [1,1,2,2,3,4,5,3,5,6,1,2,3,6,4,5,7]\n",
    "sin_duplicados = list(set(lista))\n",
    "print(sin_duplicados)"
   ]
  },
  {
   "cell_type": "markdown",
   "id": "3358229b-cc08-4fcd-8447-d7df4069351c",
   "metadata": {},
   "source": []
  },
  {
   "cell_type": "code",
   "execution_count": 16,
   "id": "f61be5d0-a93a-4625-8fc7-c5168fcff6e0",
   "metadata": {},
   "outputs": [
    {
     "name": "stdout",
     "output_type": "stream",
     "text": [
      "['bonjour', 'chau', 'bonjour', 'hello', 'bye']\n"
     ]
    }
   ],
   "source": [
    "# Ejercicio 5: Escribe un programa que, dada una *lista* de strings *L*, un string *s* perteneciente a *L* y un string *t*, \n",
    "# reemplace *s* por *t* en *L*. El programa debe mostrar la lista resultante por pantalla.\n",
    "\n",
    "L = [\"hola\", \"chau\", \"hola\", \"hello\", \"bye\"]\n",
    "s = \"hola\"\n",
    "t = \"bonjour\"\n",
    "#while(s in L):\n",
    "#    indice = L.index(s)\n",
    "#    L[indice] = t\n",
    "    \n",
    "L = list(map(lambda x: x.replace(s, t), L))\n",
    "\n",
    "print(L)"
   ]
  },
  {
   "cell_type": "code",
   "execution_count": 74,
   "id": "a85f61ec-92e8-4050-ba1b-93151385cc42",
   "metadata": {},
   "outputs": [
    {
     "name": "stdout",
     "output_type": "stream",
     "text": [
      "(1, 3, 5, 7, 9)\n",
      "(1, 3, 5, 7, 8)\n"
     ]
    }
   ],
   "source": [
    "# Ejercicio 6:\n",
    "# Escribe un programa que defina una *tupla* con elementos numéricos, reemplace el valor del último por un valor diferente \n",
    "# y muestre la *tupla* por pantalla. Recuerda que las *tuplas* son inmutables. Tendrás que usar objetos intermedios.\n",
    "\n",
    "tupla = (1,3,5,7,9)\n",
    "print(tupla)\n",
    "lista = list(tupla)\n",
    "lista[-1] = 8\n",
    "tupla = tuple(lista)\n",
    "print(tupla)"
   ]
  },
  {
   "cell_type": "code",
   "execution_count": 86,
   "id": "0c49d696-ccd6-473f-a50c-dcec8c3c1d4a",
   "metadata": {},
   "outputs": [
    {
     "name": "stdout",
     "output_type": "stream",
     "text": [
      "[8, 6, 4, 2]\n"
     ]
    }
   ],
   "source": [
    "# Ejercicio 7:\n",
    "# Dada la lista [1,2,3,4,5,6,7,8] escribe un programa que, a partir de esta lista, obtenga la lista [8,6,4,2] y la muestre por pantalla.\n",
    "\n",
    "lista = [1,2,3,4,5,6,7,8]\n",
    "print(lista[-1:0:-2])"
   ]
  },
  {
   "cell_type": "code",
   "execution_count": 102,
   "id": "93fd83df-d6ea-4f09-881b-7b039d74e739",
   "metadata": {},
   "outputs": [
    {
     "name": "stdout",
     "output_type": "stream",
     "text": [
      "(1, 3, 7, 9)\n"
     ]
    }
   ],
   "source": [
    "# Ejercicio 8:\n",
    "# Escribe un programa que, dada una tupla y un índice válido *i*, elimine el elemento de la tupla que se encuentra en la posición *i*. \n",
    "# Para este ejercicio sólo puedes usar objetos de tipo tupla. No puedes convetir la *tupla* a una *lista*, por ejemplo.\n",
    "\n",
    "tupla = (1,3,5,7,9)\n",
    "indice = 2\n",
    "nueva_tupla = tupla[:indice] + tupla[indice+1:]\n",
    "print(nueva_tupla)"
   ]
  },
  {
   "cell_type": "code",
   "execution_count": 114,
   "id": "2c2f55bd-01ec-4b02-bc54-21706ee407e8",
   "metadata": {},
   "outputs": [
    {
     "name": "stdout",
     "output_type": "stream",
     "text": [
      "[1, 2, 3, 4, 5, 6, 7, 8, 9]\n",
      "5\n"
     ]
    }
   ],
   "source": [
    "# Ejercicio 9:\n",
    "# Escribe un programa que obtenga la mediana de una *lista* de números. \n",
    "# Recuerda que la mediana *M* de una lista de números *L* es el número que cumple la siguiente propiedad: \n",
    "  # la mitad de los números de *L* son superiores a *M* y la otra mitad son inferiores. \n",
    "  # Cuando el número de elementos de *L* es par, se puede considerar que hay dos medianas. \n",
    "  # No obstante, en este ejercicio consideraremos que únicamente existe una mediana.\n",
    "\n",
    "lista = [9,4,1,7,2,3,8,6,5]\n",
    "lista.sort()\n",
    "print(lista)\n",
    "print(lista[len(lista)//2])"
   ]
  },
  {
   "cell_type": "code",
   "execution_count": null,
   "id": "a1b8f389-9ccc-4c78-a946-a1d4d00b1814",
   "metadata": {},
   "outputs": [],
   "source": []
  },
  {
   "cell_type": "markdown",
   "id": "f231e33f-d595-42f9-9980-8f6fe4e8a421",
   "metadata": {},
   "source": [
    "10) Contador de palabras en una frase: Escribe un programa que pida al usuario una frase y muestre un diccionario en el que las claves sean las palabras y los valores el número de veces que cada palabra aparece en la frase.\n",
    "\n",
    "11) Cálculo de moda en una lista: Dada una lista de números enteros, escribe un programa que encuentre el número que aparece con mayor frecuencia (moda). Si hay múltiples números con la misma frecuencia máxima, muestra todos.\n",
    "\n",
    "12) Separador de pares e impares: Escribe un programa que, dada una lista de números enteros, la divida en dos listas: una con los números pares y otra con los impares. Ambas listas deben ser mostradas en pantalla.\n",
    "\n",
    "13) Intersección y diferencia de listas: Crea un programa que reciba dos listas de números enteros y devuelva dos listas: una con los elementos comunes a ambas listas y otra con los elementos que están en una lista pero no en la otra.\n",
    "\n",
    "14) Expansión de rango: Escribe un programa que, dado un string que contiene varios intervalos de números (por ejemplo, \"1-3, 5, 7-10\"), genere una lista con todos los números en esos intervalos. Para el ejemplo anterior, el programa debería devolver [1, 2, 3, 5, 7, 8, 9, 10].\n",
    "\n",
    "15) Generador de contraseñas: Crea un programa que genere una contraseña aleatoria de una longitud especificada. La contraseña debe contener letras (mayúsculas y minúsculas), números y caracteres especiales. Asegúrate de que el programa muestre la contraseña generada en pantalla.\n",
    "\n",
    "16) Palíndromos en una lista de strings: Dada una lista de palabras, escribe un programa que identifique y muestre todas las palabras que son palíndromos (es decir, palabras que se leen igual hacia adelante y hacia atrás).\n",
    "\n",
    "17) Remover sublistas vacías: Escribe un programa que elimine todas las sublistas vacías de una lista que contiene sublistas. Ejemplo: [[1, 2, 3], [], [4, 5], [], [6, 7, 8, 9]] debe transformarse en [[1, 2, 3], [4, 5], [6, 7, 8, 9]].\n",
    "\n",
    "18) Agrupación de elementos por longitud: Escribe un programa que, dada una lista de palabras, agrupe las palabras según su longitud en un diccionario. Las claves deben ser los valores de longitud, y los valores deben ser listas de palabras con esa longitud.\n",
    "\n",
    "19) Suma y producto máximo de elementos en tuplas: Dada una lista de tuplas, donde cada tupla contiene números, encuentra la tupla con la mayor suma de elementos y la tupla con el mayor producto de elementos. Muestra ambas tuplas y sus valores (suma y producto)."
   ]
  },
  {
   "cell_type": "code",
   "execution_count": 15,
   "id": "313f3a1c-cb44-4ec7-85a2-3fa9258b9d06",
   "metadata": {},
   "outputs": [
    {
     "name": "stdin",
     "output_type": "stream",
     "text": [
      "Frase:  hola como hola va hola va\n"
     ]
    },
    {
     "name": "stdout",
     "output_type": "stream",
     "text": [
      "{'hola': 3, 'como': 1, 'va': 2}\n"
     ]
    }
   ],
   "source": [
    "# Ejercicio 10\n",
    "frase = input(\"Frase: \")\n",
    "frase = frase.split(\" \")\n",
    "dict = {}\n",
    "for palabra in frase:\n",
    "    if palabra in dict:\n",
    "        dict[palabra] += 1\n",
    "    else:\n",
    "        dict[palabra] = 1\n",
    "print(dict)\n"
   ]
  },
  {
   "cell_type": "code",
   "execution_count": 25,
   "id": "86f77c8b-3bed-4ea0-b942-c731ed88e383",
   "metadata": {},
   "outputs": [
    {
     "name": "stdin",
     "output_type": "stream",
     "text": [
      "Frase:  hola estoy probando la frase hola jaja la la la\n"
     ]
    },
    {
     "name": "stdout",
     "output_type": "stream",
     "text": [
      "{'hola': 2, 'estoy': 1, 'probando': 1, 'la': 4, 'frase': 1, 'jaja': 1}\n"
     ]
    }
   ],
   "source": [
    "# Ejercicio 10\n",
    "frase = input(\"Frase: \")\n",
    "frase = frase.split(\" \")\n",
    "dict = {palabra : frase.count(palabra) for palabra in frase}\n",
    "print(dict)"
   ]
  },
  {
   "cell_type": "code",
   "execution_count": 79,
   "id": "95d025bd-7737-4f9f-a862-d7a9e5d1d660",
   "metadata": {},
   "outputs": [
    {
     "name": "stdout",
     "output_type": "stream",
     "text": [
      "valor de la moda: 4\n",
      "valores de moda: 1, 3, "
     ]
    }
   ],
   "source": [
    "# Ejercicio 11\n",
    "nros = [1,3,5,2,4,1,1,3,2,3,1,2,3]\n",
    "moda = {nro : nros.count(nro) for nro in nros}\n",
    "moda = sorted(moda.items(), key=lambda item: item[1], reverse=True)\n",
    "max_value = moda[0][1]\n",
    "print(\"valor de la moda: \"+str(max_value))\n",
    "print(\"valores de moda:\", end=\" \")\n",
    "for key,value in moda:\n",
    "    if value == max_value:\n",
    "        print(key, end=\", \")\n",
    "    else:\n",
    "        break\n",
    "#print(moda)"
   ]
  },
  {
   "cell_type": "code",
   "execution_count": 129,
   "id": "5c259db5-168b-45e0-aae4-fcacce4c17a9",
   "metadata": {},
   "outputs": [
    {
     "name": "stdout",
     "output_type": "stream",
     "text": [
      "Pares: [0, 2, 4, 6, 8, 34, 54, 78]\n",
      "Impares: [1, 3, 5, 9, 23, 33, 45]\n"
     ]
    }
   ],
   "source": [
    "# Ejercicio 12\n",
    "pares = []\n",
    "impares = []\n",
    "numeros = [1,5,2,34,78,9,3,6,8,4,2,5,8,6,33,6,54,23,45,0,8]\n",
    "for nro in numeros:\n",
    "    if nro % 2 == 0:\n",
    "        pares.append(nro)\n",
    "    else:\n",
    "        impares.append(nro)\n",
    "pares = list(set(pares))\n",
    "impares = list(set(impares))\n",
    "pares = sorted(pares)\n",
    "impares.sort()\n",
    "print(\"Pares: \"+str(pares))\n",
    "print(\"Impares: \"+str(impares))"
   ]
  },
  {
   "cell_type": "code",
   "execution_count": 153,
   "id": "b51d0ed9-7971-4f18-ae03-18491ce28af7",
   "metadata": {},
   "outputs": [
    {
     "name": "stdout",
     "output_type": "stream",
     "text": [
      "{1, 2, 3, 4, 5, 6, 34, 8, 9, 78}\n",
      "{0, 1, 33, 5, 6, 8, 45, 54, 23}\n",
      "{8, 1, 5, 6}\n",
      "{2, 3, 4, 34, 9, 78}\n",
      "{0, 33, 45, 54, 23}\n"
     ]
    }
   ],
   "source": [
    "# Ejercicio 13\n",
    "l1 = [1,5,2,34,78,9,3,6,8,4,2]\n",
    "l2 = [5,8,6,33,6,54,23,45,0,1]\n",
    "l1 = set(sorted(list(set(l1))))\n",
    "print(l1)\n",
    "l2 = set(sorted(list(set(l2))))\n",
    "print(l2)\n",
    "print(l1.intersection(l2))\n",
    "print(l1.difference(l2))\n",
    "print(l2.difference(l1))"
   ]
  },
  {
   "cell_type": "code",
   "execution_count": 177,
   "id": "f43cd87a-8bf7-46c4-9bd7-7b881b8c7686",
   "metadata": {},
   "outputs": [
    {
     "name": "stdout",
     "output_type": "stream",
     "text": [
      "[1, 2, 3, 5, 7, 8, 9, 10]\n"
     ]
    }
   ],
   "source": [
    "# Ejercicio 14\n",
    "intervalos = \"1-3, 5, 7-10\"\n",
    "inter = intervalos.split(\", \")\n",
    "full_list = []\n",
    "for valor in inter:\n",
    "    if \"-\" not in valor:\n",
    "        full_list.append(int(valor))\n",
    "    else:\n",
    "        a,b = valor.split(\"-\")\n",
    "        expanded = []\n",
    "        expanded.extend(range(int(a), int(b)))\n",
    "        for val in expanded:\n",
    "            full_list.append(val)\n",
    "        full_list.append(int(b))\n",
    "print(full_list)"
   ]
  },
  {
   "cell_type": "code",
   "execution_count": null,
   "id": "076f3431-f81b-4711-a56e-9dc1b32d40ed",
   "metadata": {},
   "outputs": [],
   "source": [
    "# Ejercicio 15\n"
   ]
  }
 ],
 "metadata": {
  "kernelspec": {
   "display_name": "Python 3 (ipykernel)",
   "language": "python",
   "name": "python3"
  },
  "language_info": {
   "codemirror_mode": {
    "name": "ipython",
    "version": 3
   },
   "file_extension": ".py",
   "mimetype": "text/x-python",
   "name": "python",
   "nbconvert_exporter": "python",
   "pygments_lexer": "ipython3",
   "version": "3.12.4"
  }
 },
 "nbformat": 4,
 "nbformat_minor": 5
}
