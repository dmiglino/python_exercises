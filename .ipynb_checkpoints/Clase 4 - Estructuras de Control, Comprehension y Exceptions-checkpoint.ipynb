{
 "cells": [
  {
   "cell_type": "code",
   "execution_count": 13,
   "id": "8c62b75d-8cc0-4813-a357-121633ea41dd",
   "metadata": {},
   "outputs": [
    {
     "name": "stdout",
     "output_type": "stream",
     "text": [
      "69\n"
     ]
    }
   ],
   "source": [
    "# EJ 1 - Escribe un programa que calcule la suma de todos los elementos de una lista dada. La lista sólo puede contener elementos numéricos.\n",
    "lista = [1,5,2,21,4,15,9,12]\n",
    "suma = 0\n",
    "for num in lista: \n",
    "    suma += num\n",
    "print(suma)"
   ]
  },
  {
   "cell_type": "code",
   "execution_count": 19,
   "id": "45aad6d8-f71a-43ec-bf68-4c335ea56cdd",
   "metadata": {},
   "outputs": [
    {
     "name": "stdout",
     "output_type": "stream",
     "text": [
      "[1, 2, 3, 4, 5, 6, 9]\n"
     ]
    }
   ],
   "source": [
    "# Ej 2 - Dada una lista con elementos duplicados, escribir un programa que muestre una nueva lista con el mismo contenido que la primera,\n",
    "# pero sin elementos duplicados. Para este ejercicio, no puedes hacer uso de objetos de tipo 'Set'.\n",
    "lista = [3,3,5,5,4,6,1,2,1,2,1,2,9]\n",
    "sin_duplicados = []\n",
    "for num in lista:\n",
    "    if num not in sin_duplicados:\n",
    "        sin_duplicados.append(num)\n",
    "print(sorted(sin_duplicados))\n"
   ]
  },
  {
   "cell_type": "code",
   "execution_count": 41,
   "id": "f459aca8-1c70-4794-84d4-44c8b7e082ef",
   "metadata": {},
   "outputs": [
    {
     "name": "stdout",
     "output_type": "stream",
     "text": [
      "{1: 1, 2: 4, 3: 9, 4: 16, 5: 25, 6: 36, 7: 49, 8: 64, 9: 81}\n",
      "{1: 1, 2: 4, 3: 9, 4: 16, 5: 25, 6: 36, 7: 49, 8: 64, 9: 81}\n"
     ]
    }
   ],
   "source": [
    "# Ejercicio 3 - Escribe un programa que construya un diccionario que contenga un número (entre 1 y n) de elementos de esta forma: (x, x*x). \n",
    "# Ejemplo: para n = 5, el diccionario resultante sería {1: 1, 2: 4, 3: 9, 4: 16, 5: 25}\n",
    "n = 9\n",
    "dict = {x:x*x for x in range(1,n+1)}\n",
    "print(dict)\n",
    "\n",
    "diccionario = {}\n",
    "\n",
    "for i in range(1,n+1):\n",
    "    diccionario[i] = i*i\n",
    "    \n",
    "print(diccionario)"
   ]
  },
  {
   "cell_type": "code",
   "execution_count": 53,
   "id": "7062af73-2499-47a7-b85a-0bcd5c53aa94",
   "metadata": {},
   "outputs": [
    {
     "name": "stdout",
     "output_type": "stream",
     "text": [
      "Ninguna palabra cumple las condiciones\n"
     ]
    }
   ],
   "source": [
    "# Ejercicio 4 - Escribe un programa que, dada una lista de palabras, compruebe si alguna empieza por 'a' y tiene más de 9 caracteres. \n",
    "# Si dicha palabra existe, el programa deberá terminar en el momento exacto de encontrarla. \n",
    "# El programa también debe mostrar un mensaje apropiado por pantalla que indique el éxito o el fracaso de la búsqueda. \n",
    "# En caso de éxito, también se mostrará por pantalla la palabra encontrada.\n",
    "palabras = [\"hola\", \"chau\", \"amapola\", \"afganist\", \"atahualp\", \"atahualp\", \"nada\"]\n",
    "for pal in palabras:\n",
    "    if pal[0] == \"a\" and len(pal) >=9:\n",
    "        print(\"Palabra encontrada: \"+pal)\n",
    "        break\n",
    "else:\n",
    "    print(\"Ninguna palabra cumple las condiciones\")\n"
   ]
  },
  {
   "cell_type": "code",
   "execution_count": 63,
   "id": "4d3692bc-915c-4690-91a3-2f9d451a6607",
   "metadata": {},
   "outputs": [
    {
     "name": "stdout",
     "output_type": "stream",
     "text": [
      "[0, 3, 5]\n"
     ]
    }
   ],
   "source": [
    "# Ejercicio 5 - Dada una lista L de números positivos, escribir un programa que muestre otra lista (ordenada) que contenga\n",
    "# todo índice i que cumpla la siguiente condición: L[i] es múltiplo de 3. \n",
    "# Por ejemplo, dada la lista L = [3,5,13,12,1,9] el programa mostrará la lista [0,3,5] dado que L[0], L[3] y L[5] son, \n",
    "# respectivamente, 3, 12 y 9, que son los únicos múltiplos de 3 que hay en L.L = [3,5,13,12,1,9]\n",
    "I = []\n",
    "for index, valor in enumerate(L):\n",
    "    if valor % 3 == 0:\n",
    "        I.append(index)\n",
    "print(sorted(I))"
   ]
  },
  {
   "cell_type": "code",
   "execution_count": 51,
   "id": "cfb7bdfa-4eba-43d3-95b2-dfe56a7a9672",
   "metadata": {},
   "outputs": [
    {
     "name": "stdout",
     "output_type": "stream",
     "text": [
      "MAX: c 7.8\n"
     ]
    }
   ],
   "source": [
    "# Ejercicio 6 - Dado un diccionario cuyos elementos son pares de tipo string y numérico\n",
    "# (es decir, las claves son de tipo 'str' y los valores son de tipo 'int' o 'float'), \n",
    "# escribe un programa que muestre por pantalla la clave cuyo valor asociado representa el valor númerico más alto de todo el diccionario. \n",
    "# Por ejemplo, para el diccionario {'a': 4.3, 'b': 1, 'c': 7.8, 'd': -5} la respuesta sería 'c', \n",
    "# dado que 7.8 es el valor más alto de los números 4.3, 1, 7.8 y -5.\n",
    "dict = {'a': 4.3, 'b': 1, 'c': 7.8, 'd': -5}\n",
    "maximo = float(\"-inf\")\n",
    "for key, value in dict.items():\n",
    "    if value > maxVal:\n",
    "        maxVal = value\n",
    "        maxKey = key\n",
    "print(\"MAX: \" + str(maxKey) + \" \" + str(maxVal))\n",
    "\n"
   ]
  },
  {
   "cell_type": "code",
   "execution_count": 55,
   "id": "358f9765-9a2a-4253-bdf2-209959d3bddb",
   "metadata": {},
   "outputs": [
    {
     "name": "stdout",
     "output_type": "stream",
     "text": [
      "6 x 7 = 42\n",
      "6 x 11 = 66\n",
      "8 x 7 = 56\n",
      "8 x 11 = 88\n"
     ]
    }
   ],
   "source": [
    "# Ejercicio 7 - Dada la lista a = [2, 4, 6, 8] y la lista b = [7, 11, 15, 22], \n",
    "# escribe un programa q itere las listas a y b y multiplique cada elemento de a que sea mayor que 5 por cada elemento de b q sea menor que 14. El programa debe mostrar los resultados por pantalla.\n",
    "a = [2, 4, 6, 8]\n",
    "b = [7, 11, 15, 22]\n",
    "for num_a in a:\n",
    "    if num_a > 5:\n",
    "        for num_b in b:\n",
    "            if num_b < 14:\n",
    "                print(f\"{num_a} x {num_b} = {num_a*num_b}\")"
   ]
  },
  {
   "cell_type": "code",
   "execution_count": 83,
   "id": "b0ff3126-d046-49d8-988f-5e6364be27a9",
   "metadata": {},
   "outputs": [
    {
     "name": "stdin",
     "output_type": "stream",
     "text": [
      "Ingrese un valor numerico: -1\n"
     ]
    },
    {
     "name": "stdout",
     "output_type": "stream",
     "text": [
      "-10.0\n",
      "Saliendo de la division..\n"
     ]
    }
   ],
   "source": [
    "# Ejercicio 8 - Escribir un programa que pida un valor numérico X al usuario. Para ello podéis hacer uso de la función predefinida 'input'. \n",
    "# El programa deberá mostrar por pantalla el resultado de la división 10/X. En caso de que el usuario introduzca valores no apropiados, \n",
    "# el programa deberá gestionar correctamente las excepciones, por ejemplo, mostrando mensajes informativos por pantalla.\n",
    "\n",
    "try:\n",
    "    num = input(\"Ingrese un valor numerico:\")\n",
    "    print(10/int(num))\n",
    "except ValueError:\n",
    "    print(f\"El valor '{num}' no es numérico\")\n",
    "except ZeroDivisionError:\n",
    "    print(\"Error: división por cero\")\n",
    "except Exception as e:\n",
    "    print(f\"Ha ocurrido un error al dividir por '{num}'. Error: '{str(e)}'\")\n",
    "finally: \n",
    "    print(\"Saliendo de la division..\")"
   ]
  },
  {
   "cell_type": "code",
   "execution_count": 119,
   "id": "4d81dfd6-0b13-4165-b71b-8a0c15362a42",
   "metadata": {},
   "outputs": [
    {
     "name": "stdin",
     "output_type": "stream",
     "text": [
      "Ingrese una clave: z\n"
     ]
    },
    {
     "name": "stdout",
     "output_type": "stream",
     "text": [
      "Clave no encontrada\n"
     ]
    }
   ],
   "source": [
    "# Ejercicio 9 - Escribir un programa que cree un diccionario cualquiera. \n",
    "# Posteriormente, el programa pedirá al usuario (a través de la función predefinida 'input') que introduzca una clave del diccionario. \n",
    "# Si la clave introducida es correcta (es decir, existe en el diccionario), el programa mostrará por pantalla el valor asociado a dicha clave. \n",
    "# En caso de que la clave no exista, el programa gestionará de manera apropiada el error, por ejemplo, mostrando un mensaje informativo al usuario.\n",
    "\n",
    "dict = {'a': 4.3, 'b': 1, 'c': 7.8, 'd': -5}\n",
    "try:\n",
    "    key = input(\"Ingrese una clave:\")\n",
    "    print(f\"Valor encontrado: '{dict[str(key)]}'\")\n",
    "except KeyError:\n",
    "    print(\"Clave no encontrada\")\n",
    "except Exception as e:\n",
    "    print(str(e))"
   ]
  },
  {
   "cell_type": "code",
   "execution_count": 129,
   "id": "acb17388-6369-4de2-a6b3-cacbc9f9853b",
   "metadata": {},
   "outputs": [
    {
     "name": "stdout",
     "output_type": "stream",
     "text": [
      "[3.3]\n"
     ]
    }
   ],
   "source": [
    "# Ejercicio 10 - Escribe una list comprehension que construya una lista con los números enteros positivos de una lista de números dada. \n",
    "# La lista original puede incluir números de tipo float, los cuales deben ser descartados.\n",
    "lista = [-1, 7, 11, 15, 22, -22, 0, 3, -4, 3.3, -5.5]\n",
    "positivos = [x for x in lista if type(x) == int and x > 0]\n",
    "print(positivos)"
   ]
  },
  {
   "cell_type": "code",
   "execution_count": 159,
   "id": "91b60df1-5704-44a5-9e2a-fcb4966eeb46",
   "metadata": {},
   "outputs": [
    {
     "name": "stdout",
     "output_type": "stream",
     "text": [
      "{'i', 'A', 'a', 'e'}\n"
     ]
    }
   ],
   "source": [
    "# Ejercicio 11 - Escribe una set comprehension que, dada una palabra, construya un conjunto que contenga las vocales de dicha palabra.\n",
    "palabra = \"ArgentinaA\"\n",
    "vowels = ['a', 'e', 'i', 'o', 'u', 'A', 'E', 'I', 'O', 'U']  \n",
    "set = {c for c in palabra if c in vowels}\n",
    "print(set)"
   ]
  },
  {
   "cell_type": "code",
   "execution_count": 161,
   "id": "91d2768f-b1a5-4aeb-8bb0-623ac75f76ae",
   "metadata": {},
   "outputs": [
    {
     "name": "stdout",
     "output_type": "stream",
     "text": [
      "[3, 13, 23, 30, 31, 32, 33, 34, 35, 36, 37, 38, 39, 43]\n"
     ]
    }
   ],
   "source": [
    "# Ejercicio 12 - Escribe una list comprehension que construya una lista con todos los números del 0 al 50 que contengan el dígito 3. \n",
    "# El resultado será: [3, 13, 23, 30, 31, 32, 33, 34, 35, 36, 37, 38, 39, 43].\n",
    "print([x for x in range(0,50) if '3' in str(x)])"
   ]
  },
  {
   "cell_type": "code",
   "execution_count": 171,
   "id": "5fe018fc-958f-4a6b-ad1a-358ccf7db2e8",
   "metadata": {},
   "outputs": [
    {
     "name": "stdout",
     "output_type": "stream",
     "text": [
      "{'Soy': 3, 'un': 2, 'ser': 3, 'humano': 6, 'argento': 7}\n"
     ]
    }
   ],
   "source": [
    "# Ejercicio 13 - Escribe una dictionary comprehension que construya un diccionario que incluya los tamaños de cada palabra en una frase dada.\n",
    "# Ejemplo: el resultado para la frase \"Soy un ser humano\" será {'Soy': 3, 'un': 2, 'ser': 3, 'humano': 6}\n",
    "frase = \"Soy un ser humano argento\"\n",
    "print({k:len(k) for k in frase.split()})"
   ]
  },
  {
   "cell_type": "code",
   "execution_count": 181,
   "id": "fe146f5b-d45d-43c9-9183-238e5738460e",
   "metadata": {},
   "outputs": [
    {
     "name": "stdout",
     "output_type": "stream",
     "text": [
      "[1, 2, 3, 4, 5, 'seis', 'siete', 'ocho', 'nueve', 'diez']\n"
     ]
    }
   ],
   "source": [
    "# Ejercicio 14 - Escribe una list comprehension que construya una lista que incluya todos los números del 1 al 10 en orden. \n",
    "# La primera mitad se mostrarán en formato numérico; la segunda mitad en texto. \n",
    "# Es decir, el resultado será: [1, 2, 3, 4, 5, 'seis', 'siete', 'ocho', 'nueve', 'diez'].\n",
    "map = {6:'seis', 7:'siete', 8:'ocho', 9:'nueve', 10:'diez'}\n",
    "print([x if x <=5 else map[x] for x in range(1,11)])"
   ]
  },
  {
   "cell_type": "markdown",
   "id": "589f13de-fcb3-4f54-a606-b67618014c98",
   "metadata": {},
   "source": [
    "### EJERCICIOS AVANZADOS ###"
   ]
  },
  {
   "cell_type": "code",
   "execution_count": 201,
   "id": "cb6451f4-9487-4af7-8194-8c7347bdd9ae",
   "metadata": {},
   "outputs": [
    {
     "name": "stdin",
     "output_type": "stream",
     "text": [
      "Primer valor: 3\n",
      "Segundo valor: 0\n",
      "Operacion: /\n"
     ]
    },
    {
     "name": "stdout",
     "output_type": "stream",
     "text": [
      "Error: división por cero\n"
     ]
    }
   ],
   "source": [
    "# Ejercicio 1 - Calculadora de operaciones avanzadas: Crea un programa que pida al usuario dos números y una operación\n",
    "# (suma, resta, multiplicación, división, potencia, o raíz cuadrada) y realice la operación seleccionada. \n",
    "# Maneja posibles errores, como una operación no válida o una división por cero, y usa excepciones para mostrar mensajes informativos.\n",
    "try:\n",
    "    a = int(input(\"Primer valor:\"))\n",
    "    b = int(input(\"Segundo valor:\"))\n",
    "    op = input(\"Operacion:\")\n",
    "    if op == \"+\":\n",
    "        print(a+b)\n",
    "    elif op == \"-\":\n",
    "        print(a-b)\n",
    "    elif op == \"*\":\n",
    "        print(a*b)\n",
    "    elif op == \"/\":\n",
    "        print(a/b)\n",
    "    elif op == \"pow\":\n",
    "        print((a+b)*(a+b))\n",
    "    elif op == \"raiz\":\n",
    "        print((a+b)**0.5)\n",
    "    else:\n",
    "        raise ValueError(\"Operacion no valida\")\n",
    "except ValueError:\n",
    "    print(\"El valor ingresado no es numérico\")\n",
    "except ZeroDivisionError:\n",
    "    print(\"Error: división por cero\")\n",
    "except Exception as e:\n",
    "    print(f\"Error: '{str(e)}'\")\n",
    "    "
   ]
  },
  {
   "cell_type": "code",
   "execution_count": 145,
   "id": "14404dfc-982f-4fc5-a8c7-0ea2a1afaa78",
   "metadata": {},
   "outputs": [
    {
     "name": "stdin",
     "output_type": "stream",
     "text": [
      "Primer valor: 3\n",
      "Segundo valor: 4\n",
      "Operacion: pow\n"
     ]
    },
    {
     "name": "stdout",
     "output_type": "stream",
     "text": [
      "81\n"
     ]
    }
   ],
   "source": [
    "# Otra forma de resolucion sin tanto elif:\n",
    "try:\n",
    "    a = int(input(\"Primer valor:\"))\n",
    "    b = int(input(\"Segundo valor:\"))\n",
    "    op = input(\"Operacion:\")\n",
    "\n",
    "    operaciones = {\n",
    "        \"+\": a + b,\n",
    "        \"-\": a - b,\n",
    "        \"*\": a * b,\n",
    "        \"/\": a / b if b != 0 else \"Error: división por cero\",\n",
    "        \"pow\": a ** b,\n",
    "        \"raiz\": (a ** 0.5, b ** 0.5)  # Devuelve la raíz cuadrada de cada número\n",
    "    }\n",
    "\n",
    "    resultado = operaciones.get(op, \"Operación no válida\")\n",
    "    if isinstance(resultado, str):\n",
    "        print(resultado)\n",
    "    else:\n",
    "        print(resultado)\n",
    "except ValueError:\n",
    "    print(\"El valor ingresado no es numérico\")\n"
   ]
  },
  {
   "cell_type": "code",
   "execution_count": 217,
   "id": "0ce451ce-f4b9-4f88-8ae4-bc648c24b947",
   "metadata": {},
   "outputs": [
    {
     "name": "stdout",
     "output_type": "stream",
     "text": [
      "{'elefante': 4, 'paralelepipedo': 7, 'argentina': 4, 'messi': 2, 'equilatero': 6, 'libelula': 4, 'python': 1}\n"
     ]
    }
   ],
   "source": [
    "# Ejercicio 2 - Conteo de vocales en palabras largas: Dada una lista de palabras, \n",
    "# usa una comprensión de diccionario para construir un diccionario que contenga, \n",
    "# para cada palabra que tenga más de 5 letras, la cantidad de vocales que tiene. \n",
    "# Ejemplo de salida: {'elefante': 4, 'paralelepipedo': 7}.\n",
    "def contar_vocales(pal):\n",
    "    vocales = ['a', 'e', 'i', 'o', 'u', 'A', 'E', 'I', 'O', 'U']\n",
    "    cant = 0\n",
    "    for c in pal:\n",
    "        if c in vocales:\n",
    "            cant += 1\n",
    "    return cant\n",
    "    \n",
    "palabras = [\"elefante\", \"paralelepipedo\", \"argentina\", \"messi\", \"equilatero\", \"libelula\", \"python\"]\n",
    "print({pal:contar_vocales(pal) for pal in palabras})"
   ]
  },
  {
   "cell_type": "code",
   "execution_count": 161,
   "id": "dda4a768-0edb-4524-bdbb-346c31932189",
   "metadata": {},
   "outputs": [
    {
     "name": "stdout",
     "output_type": "stream",
     "text": [
      "[6, 28, 496]\n"
     ]
    }
   ],
   "source": [
    "# Ejercicio 3 - Números perfectos: Escribe un programa que encuentre y muestre todos los \"números perfectos\" menores a un número dado. \n",
    "# Un número perfecto es aquel que es igual a la suma de sus divisores (excluyendo al propio número). \n",
    "# Por ejemplo, 6 es un número perfecto porque 6 = 1 + 2 + 3 6=1+2+3.\n",
    "numero = 2000\n",
    "perfectos = []\n",
    "for x in range(1, numero):\n",
    "    divisores = [y for y in range(1, x//2+1) if x % y == 0]\n",
    "    if x == sum(divisores):\n",
    "        perfectos.append(x)\n",
    "print(perfectos)"
   ]
  },
  {
   "cell_type": "code",
   "execution_count": 169,
   "id": "a4db1e49-4df3-4900-9e3f-2934cfa187d0",
   "metadata": {},
   "outputs": [
    {
     "name": "stdin",
     "output_type": "stream",
     "text": [
      "Ingrese contraseña: asdfasdf1\n"
     ]
    },
    {
     "name": "stdout",
     "output_type": "stream",
     "text": [
      "['Debe contener una mayúscula.', 'Debe contener un carácter especial (!, @, #, etc.).']\n"
     ]
    }
   ],
   "source": [
    "# Ejercicio 4 - Validación de contraseña segura: Crea un programa que pida una contraseña y verifique que cumpla con los siguientes requisitos:\n",
    "# - Al menos 8 caracteres.\n",
    "# - Contiene al menos una letra mayúscula, una minúscula, un número y un carácter especial (como !, @, #, etc.).\n",
    "# - Si la contraseña no cumple con los requisitos, muestra mensajes específicos indicando qué condiciones no se cumplen.\n",
    "pwd = input(\"Ingrese contraseña:\")\n",
    "segura = False\n",
    "errores = []\n",
    "if len(pwd) < 8:\n",
    "    errores.append(\"Contraseña demasiado corta. Debe contener minimo 8 caracteres\")    \n",
    "if not any(c.isupper() for c in pwd):\n",
    "    errores.append(\"Debe contener una mayúscula.\")\n",
    "if not any(c.islower() for c in pwd):\n",
    "    errores.append(\"Debe contener una minúscula.\")\n",
    "if not any(c.isdigit() for c in pwd):\n",
    "    errores.append(\"Debe contener un número.\")\n",
    "if not any(not c.isalnum() for c in pwd):\n",
    "    errores.append(\"Debe contener un carácter especial (!, @, #, etc.).\")\n",
    "if len(errores) == 0:\n",
    "    print(\"La contraseña es segura\")\n",
    "else:\n",
    "    print(errores)"
   ]
  },
  {
   "cell_type": "code",
   "execution_count": 301,
   "id": "93de5ee0-7279-41e5-a62a-0cb643b156ce",
   "metadata": {},
   "outputs": [
    {
     "name": "stdout",
     "output_type": "stream",
     "text": [
      "{'elefante': 8, 'paralelepipedo': 14, 'argentina': 9, 'messi': 5, 'equilatero': 10, 'libelula': 8, 'python': 6, 'cinco': 5}\n",
      "{8: ['elefante', 'libelula'], 14: ['paralelepipedo'], 9: ['argentina'], 5: ['messi', 'cinco'], 10: ['equilatero'], 6: ['python']}\n"
     ]
    }
   ],
   "source": [
    "# Ejercicio 5 - Agrupación de palabras por longitud: Dada una lista de palabras, agrupalas por su longitud. \n",
    "# El diccionario debe tener como claves las longitudes y como valores listas de palabras de esa longitud. \n",
    "# Ejemplo: {\"3\": [\"uno\", \"dos\"], \"4\": [\"tres\"], \"5\": [\"cinco\"]}.\n",
    "\n",
    "palabras = [\"elefante\", \"paralelepipedo\", \"argentina\", \"messi\", \"equilatero\", \"libelula\", \"python\", \"cinco\"]\n",
    "print({pal:len(pal) for pal in palabras})\n",
    "res = {}\n",
    "for pal in palabras:\n",
    "    res.setdefault(len(pal), []).append(pal)\n",
    "print(res)"
   ]
  },
  {
   "cell_type": "code",
   "execution_count": null,
   "id": "c76f5fac-8522-44be-ae1d-f9e68b65127d",
   "metadata": {},
   "outputs": [],
   "source": [
    "# Ejercicio 6 - Filtrar y ordenar datos de un diccionario: \n",
    "# Escribe un programa que reciba un diccionario donde las claves sean nombres de productos y los valores sus precios. \n",
    "# Luego filtra los productos cuyo precio sea superior a un valor dado, y muestra los productos resultantes ordenados de mayor a menor precio.\n",
    "precios = {'clavo':10, 'tornillo':15, 'martillo':25, 'serrucho':30, 'amoladora':100, 'tuerca':9, 'pinza':60}\n",
    "valor = input(\"Ingrese valor minimo: \")\n",
    "\n",
    "# filtro los productos segun el valor minimo\n",
    "filtrados = {k:v for k,v in precios.items() if int(v) >= int(valor)}\n",
    "print(filtrados) # dict sin ordenar\n",
    "\n",
    "# me devuelve una tupla con los productos\n",
    "productos_ordenados_por_valor = sorted(filtrados.items(), key=lambda kv: kv[1], reverse=True) \n",
    "print(productos_ordenados_por_valor) # tupla\n",
    "\n",
    "# convierto de tupla a diccionario e imprimo\n",
    "print({x:y for x, y in productos_ordenados_por_valor}) # dict"
   ]
  },
  {
   "cell_type": "code",
   "execution_count": 23,
   "id": "a0c02d3f-4f2f-42c4-b657-5156d6757182",
   "metadata": {},
   "outputs": [
    {
     "name": "stdout",
     "output_type": "stream",
     "text": [
      "manzana\n",
      "naranja\n",
      "manzana\n",
      "{'manzana': 3, 'naranja': 3}\n"
     ]
    }
   ],
   "source": [
    "# Ejercicio 7 - Diccionario con operaciones de conteo y suma: \n",
    "# Dada una lista de tuplas donde cada tupla contiene un producto y una cantidad vendida, \n",
    "# crea un diccionario que almacene la cantidad total vendida de cada producto. \n",
    "# Ejemplo: si la lista de entrada es [(\"manzana\", 2), (\"naranja\", 3), (\"manzana\", 1)], \n",
    "# el diccionario resultante debería ser {\"manzana\": 3, \"naranja\": 3}.\n",
    "lista = [(\"manzana\", 2), (\"naranja\", 3), (\"manzana\", 1)]\n",
    "res = {}\n",
    "for tup in lista:\n",
    "    if tup[0] in res:\n",
    "        res[tup[0]] += tup[1]\n",
    "    else:\n",
    "        res[tup[0]] = tup[1]\n",
    "print(res)\n"
   ]
  },
  {
   "cell_type": "code",
   "execution_count": 33,
   "id": "b5591ff3-e014-4d30-a4e9-3150bd32cd29",
   "metadata": {},
   "outputs": [
    {
     "name": "stdin",
     "output_type": "stream",
     "text": [
      "Escriba una frase:  Hola como estas como me llamo como Diego Hola\n"
     ]
    },
    {
     "name": "stdout",
     "output_type": "stream",
     "text": [
      "{'Hola': 2, 'como': 3, 'estas': 1, 'me': 1, 'llamo': 1, 'Diego': 1}\n"
     ]
    }
   ],
   "source": [
    "# Ejercicio 8 - Conteo de palabras únicas y duplicadas en una frase: Escribe un programa que pida al usuario una frase y construya un diccionario\n",
    "# donde las claves sean las palabras y los valores el número de veces que aparecen en la frase. Muestra las palabras únicas y las duplicadas.\n",
    "frase = input(\"Escriba una frase: \")\n",
    "lista = frase.split()\n",
    "res = {}\n",
    "for pal in lista:\n",
    "    if pal in res:\n",
    "        res[pal] += 1\n",
    "    else:\n",
    "        res[pal] = 1\n",
    "print(res)\n",
    "# Hola como estas como me llamo como Diego Hola"
   ]
  },
  {
   "cell_type": "code",
   "execution_count": 17,
   "id": "a66f9f7b-7277-459b-9d23-aebc9eca37f3",
   "metadata": {},
   "outputs": [
    {
     "name": "stdout",
     "output_type": "stream",
     "text": [
      "[33, 22, 20, 19, 15, 12, 11, 9, 7, 5, 4, 3, 2, 1]\n"
     ]
    }
   ],
   "source": [
    "# Ejercicio 9 - Operaciones con dos listas de enteros: Escribe un programa que reciba dos listas de enteros. \n",
    "# Genera una tercera lista que contenga todos los elementos de ambas listas, sin duplicados, y que esté ordenada de forma descendente.\n",
    "l1 = [1,5,2,22,4,15,9,12,3]\n",
    "l2 = [3,7,11,20,19,5,1,33]\n",
    "l3 = sorted(list(set(l1 + l2)), reverse=True)\n",
    "print(l3)"
   ]
  },
  {
   "cell_type": "code",
   "execution_count": 47,
   "id": "c4af73f0-7a71-4ce4-90bb-925b7f5be46f",
   "metadata": {},
   "outputs": [
    {
     "name": "stdin",
     "output_type": "stream",
     "text": [
      "Ingresa numero: 593\n"
     ]
    },
    {
     "name": "stdout",
     "output_type": "stream",
     "text": [
      "593\n",
      "93\n",
      "43\n",
      "33\n",
      "23\n",
      "13\n",
      "3\n",
      "2\n",
      "1\n",
      "DLXXXXIII\n"
     ]
    }
   ],
   "source": [
    "# Ejercicio 10 - Conversor de cadena a número romano: Escribe un programa que pida un número entero entre 1 y 100,\n",
    "# y devuelva su equivalente en números romanos. Usa un diccionario para mapear los números a los símbolos romanos.\n",
    "numero = int(input(\"Ingresa numero:\"))\n",
    "romanos = {1: 'I', 5: 'V', 10: 'X', 50: 'L', 100: 'C', 500: 'D', 1000: 'M'}\n",
    "romano = \"\"\n",
    "for x in reversed(romanos.keys()):\n",
    "    while numero >= x:\n",
    "        numero -= x\n",
    "        romano += romanos[x]\n",
    "print(romano)"
   ]
  },
  {
   "cell_type": "code",
   "execution_count": 71,
   "id": "89582c04-1e22-4a44-9496-9adb98707eee",
   "metadata": {},
   "outputs": [
    {
     "name": "stdout",
     "output_type": "stream",
     "text": [
      "[1, 2, 3, 5, 7, 11, 13, 17, 19, 23, 29, 31, 37, 41, 43, 47, 53, 59, 61, 67, 71, 73, 79, 83, 89, 97, 101, 103, 107, 109, 113, 127, 131, 137, 139, 149, 151, 157, 163, 167, 173, 179, 181, 191, 193, 197, 199] -> suma = 4228\n"
     ]
    }
   ],
   "source": [
    "# Ejercicio 11 - Suma de dígitos en números primos: Dada una lista de números enteros, \n",
    "# escribe un programa que identifique los números primos en la lista y calcule la suma de los dígitos de cada número primo encontrado. \n",
    "# Usa una comprensión de listas y muestra los resultados en una lista nueva.\n",
    "\n",
    "def es_primo(valor):\n",
    "    for x in range(2,valor):\n",
    "        if valor % x == 0:\n",
    "            return False\n",
    "    return True\n",
    "\n",
    "lista = range(1,100)\n",
    "primos = [x for x in lista if es_primo(x)]\n",
    "print(f\"{primos} -> suma = {sum(primos)}\")"
   ]
  },
  {
   "cell_type": "code",
   "execution_count": 91,
   "id": "2cdd1ca9-46f6-44cd-971d-3f4cfc9a567f",
   "metadata": {},
   "outputs": [
    {
     "name": "stdout",
     "output_type": "stream",
     "text": [
      "Juan\n",
      "Luis\n"
     ]
    }
   ],
   "source": [
    "# Ejercicio 12 - Filtros avanzados de diccionarios anidados: Dado un diccionario que contiene nombres de estudiantes como claves \n",
    "# y otro diccionario como valor, el cual incluye las materias y las notas de cada estudiante, escribe un programa que filtre\n",
    "# y muestre los estudiantes que hayan aprobado todas sus materias (nota >= 6 en cada materia).\n",
    "\n",
    "estudiantes = {\n",
    "    \"Ana\": {\"Matemáticas\": 7, \"Historia\": 5, \"Ciencias\": 8},\n",
    "    \"Juan\": {\"Matemáticas\": 6, \"Historia\": 6, \"Ciencias\": 6},\n",
    "    \"Luis\": {\"Matemáticas\": 8, \"Historia\": 9, \"Ciencias\": 10},\n",
    "    \"Sofía\": {\"Matemáticas\": 5, \"Historia\": 6, \"Ciencias\": 7}\n",
    "}\n",
    "aprobados = []\n",
    "for alumno, materias in estudiantes.items():\n",
    "    aprobo_todas = True\n",
    "    for materia, nota in materias.items():\n",
    "        if nota < 6:\n",
    "            aprobo_todas = False\n",
    "            break\n",
    "    if aprobo_todas:\n",
    "        print(alumno)"
   ]
  },
  {
   "cell_type": "code",
   "execution_count": 123,
   "id": "c8fda786-89d8-41ce-af73-c93645b8de6d",
   "metadata": {},
   "outputs": [
    {
     "name": "stdin",
     "output_type": "stream",
     "text": [
      " 9999\n"
     ]
    },
    {
     "name": "stdout",
     "output_type": "stream",
     "text": [
      "[1, 2, 3, 4, 5, 6, 7, 8, 9, 11, 22, 33, 44, 55, 66, 77, 88, 99, 101, 111, 121, 131, 141, 151, 161, 171, 181, 191, 202, 212, 222, 232, 242, 252, 262, 272, 282, 292, 303, 313, 323, 333, 343, 353, 363, 373, 383, 393, 404, 414, 424, 434, 444, 454, 464, 474, 484, 494, 505, 515, 525, 535, 545, 555, 565, 575, 585, 595, 606, 616, 626, 636, 646, 656, 666, 676, 686, 696, 707, 717, 727, 737, 747, 757, 767, 777, 787, 797, 808, 818, 828, 838, 848, 858, 868, 878, 888, 898, 909, 919, 929, 939, 949, 959, 969, 979, 989, 999, 1001, 1111, 1221, 1331, 1441, 1551, 1661, 1771, 1881, 1991, 2002, 2112, 2222, 2332, 2442, 2552, 2662, 2772, 2882, 2992, 3003, 3113, 3223, 3333, 3443, 3553, 3663, 3773, 3883, 3993, 4004, 4114, 4224, 4334, 4444, 4554, 4664, 4774, 4884, 4994, 5005, 5115, 5225, 5335, 5445, 5555, 5665, 5775, 5885, 5995, 6006, 6116, 6226, 6336, 6446, 6556, 6666, 6776, 6886, 6996, 7007, 7117, 7227, 7337, 7447, 7557, 7667, 7777, 7887, 7997, 8008, 8118, 8228, 8338, 8448, 8558, 8668, 8778, 8888, 8998, 9009, 9119, 9229, 9339, 9449, 9559, 9669, 9779, 9889]\n"
     ]
    }
   ],
   "source": [
    "# Ejercicio 13 - Generador de palíndromos: Crea un programa que, dado un número entero n, \n",
    "# genere una lista con los primeros n números que sean palíndromos. \n",
    "# Un número es palíndromo si se lee igual de izquierda a derecha que de derecha a izquierda.\n",
    "\n",
    "numero = input()\n",
    "palin = []\n",
    "for n in range(1, int(numero)):\n",
    "    rev = int(str(n)[::-1])\n",
    "    if n == rev:\n",
    "         palin.append(n)\n",
    "print(palin)"
   ]
  },
  {
   "cell_type": "code",
   "execution_count": 143,
   "id": "307cd647-8659-4c43-9cb1-074bbf95496d",
   "metadata": {},
   "outputs": [
    {
     "name": "stdout",
     "output_type": "stream",
     "text": [
      "[6, 2, 8, 7, 3, 1]\n"
     ]
    }
   ],
   "source": [
    "# Ejercicio 14 - Transformación de tupla a lista en zigzag: Dada una tupla de números, \n",
    "# escribe un programa que convierta la tupla en una lista, donde los elementos pares se coloquen en orden ascendente \n",
    "# y los impares en orden descendente. Ejemplo: para la tupla (7, 3, 6, 2, 8, 1), el resultado podría ser [8, 2, 6, 3, 7, 1].\n",
    "\n",
    "tupla = (7, 3, 6, 2, 8, 1)\n",
    "pares = [x for x in list(tupla) if x % 2 == 0]\n",
    "impares = [x for x in list(tupla) if x % 2 != 0]\n",
    "print(pares+impares)"
   ]
  },
  {
   "cell_type": "code",
   "execution_count": 141,
   "id": "75d7b894-0e77-484e-989f-c592c4b3a1af",
   "metadata": {},
   "outputs": [
    {
     "name": "stdout",
     "output_type": "stream",
     "text": [
      "{'Ana': 5.5, 'Juan': 6.25, 'Luis': 3.0, 'Sofía': 9.25}\n"
     ]
    }
   ],
   "source": [
    "# Ejercicio 15 - Promedio de puntuaciones de un diccionario: Dado un diccionario en el que las claves son nombres de alumnos \n",
    "# y los valores son listas de sus calificaciones, escribe un programa que construya un nuevo diccionario donde cada clave \n",
    "# sea el nombre de un estudiante y su valor el promedio de sus calificaciones. \n",
    "# Asegúrate de que el programa maneje adecuadamente posibles excepciones, como valores de calificación no numéricos o listas vacías.\n",
    "\n",
    "estudiantes = {\n",
    "    \"Ana\": [7,5,6,4],\n",
    "    \"Juan\": [2,9,8,6],\n",
    "    \"Luis\": [2,4,4,2],\n",
    "    \"Sofía\": [10,8,10,9]\n",
    "}\n",
    "print({x:sum(y)/len(y) for x,y in estudiantes.items()})"
   ]
  },
  {
   "cell_type": "code",
   "execution_count": null,
   "id": "710cec8d-ff57-406f-9f1a-cc519b216666",
   "metadata": {},
   "outputs": [],
   "source": []
  }
 ],
 "metadata": {
  "kernelspec": {
   "display_name": "Python 3 (ipykernel)",
   "language": "python",
   "name": "python3"
  },
  "language_info": {
   "codemirror_mode": {
    "name": "ipython",
    "version": 3
   },
   "file_extension": ".py",
   "mimetype": "text/x-python",
   "name": "python",
   "nbconvert_exporter": "python",
   "pygments_lexer": "ipython3",
   "version": "3.12.4"
  }
 },
 "nbformat": 4,
 "nbformat_minor": 5
}
