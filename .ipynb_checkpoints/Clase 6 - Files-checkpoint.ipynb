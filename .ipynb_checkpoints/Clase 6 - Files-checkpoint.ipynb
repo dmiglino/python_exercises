{
 "cells": [
  {
   "cell_type": "markdown",
   "id": "7faa57b7-63e6-4ae9-8900-9263d9648684",
   "metadata": {},
   "source": [
    "1. Escribe una función que reciba una ruta de un fichero de texto y una cadena de caracteres a buscar y determine si la cadena aparece en el fichero.\n",
    "\n",
    "2. Escribe una función que reciba una lista, una ruta destino y un número *n*. La función debe crear un fichero en la ruta especificada. El contenido del fichero serán los primeros *n* elementos de la lista. La función debe controlar de manera apropiada los posibles valores de *n* que estén fuera de rango.\n",
    "\n",
    "3. Escribe una función que reciba una ruta de un fichero de texto devuelva un diccionario con la frecuencia de aparición de cada palabra. Ejemplo: un fichero que contenga la frase 'es mejor que venga que que no venga' devolverá el siguiente diccionario: {'es' : 1, 'mejor' : 1, 'que' : 3, 'venga' : 2, 'no' : 1}. Para dividir un string en palabras puedes hacer uso del método *split*."
   ]
  },
  {
   "cell_type": "code",
   "execution_count": 21,
   "id": "a00b3aa2-ae93-4e24-9e43-07f92f78286c",
   "metadata": {},
   "outputs": [
    {
     "name": "stdout",
     "output_type": "stream",
     "text": [
      "True\n",
      "False\n"
     ]
    }
   ],
   "source": [
    "# Ej 1\n",
    "import os\n",
    "\n",
    "def archivo_contiene_palabra(ruta, palabra):\n",
    "    with open(ruta) as archivo:\n",
    "        for linea in archivo:\n",
    "            if palabra.lower() in linea.lower():\n",
    "                return True\n",
    "        return False\n",
    "\n",
    "ruta = os.path.join(\"archivos\", \"archivo_clase6.txt\")\n",
    "print(archivo_contiene_palabra(ruta, \"hola\")) # True\n",
    "print(archivo_contiene_palabra(ruta, \"chau\")) # False\n",
    "    "
   ]
  },
  {
   "cell_type": "code",
   "execution_count": 69,
   "id": "d091653d-6b54-4e2a-b603-38339fdb5404",
   "metadata": {},
   "outputs": [
    {
     "name": "stdout",
     "output_type": "stream",
     "text": [
      "a 1 b 2 c 3 d 4 e 5\n"
     ]
    }
   ],
   "source": [
    "# Ej 2\n",
    "def grabar_items_en_archivo(ruta, lista, n):\n",
    "    with open(ruta, 'w') as archivo:\n",
    "        try:\n",
    "            if(n <= 0 or n > len(lista)):\n",
    "                raise IndexError(\"Indice fuera de rango\")\n",
    "            archivo.write(\" \".join(str(p) for p in lista[:n]))\n",
    "        except Exception as e:\n",
    "            print(f\"Ha ocurrido un error: {str(e)}\")\n",
    "\n",
    "ruta = os.path.join(\"archivos\", \"archivo_generado_clase6.txt\")\n",
    "grabar_items_en_archivo(ruta, ['a',1,'b',2,'c',3,'d', 4, 'e', 5,'f',6,'g',7,'h',8,'i',9], 10)\n",
    "\n",
    "# Check:\n",
    "with open(ruta) as generado:\n",
    "    for linea in generado:\n",
    "        print(linea)"
   ]
  },
  {
   "cell_type": "code",
   "execution_count": 87,
   "id": "652b6eef-d51b-4612-a2be-85849f1b0668",
   "metadata": {},
   "outputs": [
    {
     "name": "stdout",
     "output_type": "stream",
     "text": [
      "{'es': 3, 'mejor': 1, 'que': 4, 'venga': 2, 'no': 1, 'esa': 1, 'la': 2, 'linea': 1, 'tercera': 1}\n"
     ]
    }
   ],
   "source": [
    "# Ej 3\n",
    "def obtener_diccionario_de_palabras(ruta):\n",
    "    with open(ruta) as dict_arch:\n",
    "        dict = {}\n",
    "        for linea in dict_arch:\n",
    "            for pal in linea.split():\n",
    "                if pal in dict:\n",
    "                    dict[pal] += 1\n",
    "                else:\n",
    "                    dict[pal] = 1\n",
    "        print(dict)\n",
    "    \n",
    "ruta = os.path.join(\"archivos\", \"clase_6_ejercicio_3.txt\")\n",
    "obtener_diccionario_de_palabras(ruta)"
   ]
  },
  {
   "cell_type": "code",
   "execution_count": 20,
   "id": "0165bb15-9168-4a26-b1cb-71e458d4e1fa",
   "metadata": {},
   "outputs": [
    {
     "name": "stdout",
     "output_type": "stream",
     "text": [
      "{'tercera': 1, 'esa': 1, 'mejor': 1, 'linea': 1, 'venga': 2, 'no': 1, 'es': 3, 'la': 2, 'que': 4}\n"
     ]
    }
   ],
   "source": [
    "# Ej 3b - Dictionary Comprehension\n",
    "import os\n",
    "def obtener_diccionario_de_palabras(ruta):\n",
    "    with open(ruta) as dict_arch:\n",
    "        dict = {}\n",
    "        texto_completo = \"\"\n",
    "        for linea in dict_arch:\n",
    "            texto_completo += linea + \" \"\n",
    "        texto_completo = texto_completo[:-1]\n",
    "        texto_completo_list = texto_completo.split()\n",
    "        dict = {pal: texto_completo_list.count(pal) for pal in set(texto_completo_list)}\n",
    "        print(dict)\n",
    "\n",
    "ruta = os.path.join(\"archivos\", \"clase_6_ejercicio_3.txt\")\n",
    "obtener_diccionario_de_palabras(ruta)"
   ]
  },
  {
   "cell_type": "markdown",
   "id": "c6510b63-9faa-4b94-b679-885d9f9562ac",
   "metadata": {},
   "source": [
    "Ejercicio 4 - Escritura condicional en archivos\n",
    "\n",
    "Escribe una función que reciba una ruta de un archivo de texto y dos listas, una con palabras \"permitidas\" y otra con palabras \"prohibidas\". La función debe leer el archivo línea por línea y escribir una nueva versión de ese archivo, donde solo se incluyan las líneas que contengan al menos una palabra permitida y ninguna palabra prohibida.\n",
    "\n",
    "    Pistas: Puedes usar conjuntos (set) para hacer las comparaciones de palabras más eficientes. Asegúrate de controlar excepciones en caso de que el archivo de origen no exista."
   ]
  },
  {
   "cell_type": "code",
   "execution_count": 266,
   "id": "94d60fc2-39d6-4334-9fec-01e73ee1a42b",
   "metadata": {},
   "outputs": [
    {
     "name": "stdout",
     "output_type": "stream",
     "text": [
      "Archivo no encontrado: bad\n"
     ]
    }
   ],
   "source": [
    "import os\n",
    "def filtrar_palabras(ruta, permitidas, prohibidas):\n",
    "    try:\n",
    "        with open(ruta) as archivo:\n",
    "            permitida = False\n",
    "            prohibida = False\n",
    "            lineas_ok = []\n",
    "            for linea in archivo:\n",
    "                contiene_permitida =  any(pal in permitidas for pal in linea.split())\n",
    "                contiene_prohibida =  any(pal in prohibidas for pal in linea.split())\n",
    "                if(contiene_permitida == True and contiene_prohibida == False):\n",
    "                    lineas_ok.append(linea)\n",
    "            if len(lineas_ok) > 0:\n",
    "                ruta_w = os.path.join(\"archivos\", \"clase_6_ejercicio_4_respuesta.txt\")\n",
    "                os.makedirs(os.path.dirname(ruta_w), exist_ok=True)\n",
    "                with open(ruta_w, 'w') as filtrado:\n",
    "                    filtrado.writelines(lineas_ok)\n",
    "    except FileNotFoundError as e:\n",
    "        filename = str(e).split(': ')[1]\n",
    "        print(f\"Archivo no encontrado: {e.filename}\")\n",
    "    except Exception as e:\n",
    "        print(f\"Error: {e}\")\n",
    "    \n",
    "permitidas = [\"primavera\", \"verano\", \"parque\", \"niños\"]\n",
    "prohibidas = [\"invierno\", \"oscuro\"]\n",
    "ruta = os.path.join(\"archivos\", \"clase_6_ejercicio_4.txt\")\n",
    "filtrar_palabras(ruta, permitidas, prohibidas)\n",
    "filtrar_palabras(\"bad\", permitidas, prohibidas)"
   ]
  },
  {
   "cell_type": "markdown",
   "id": "9e265e24-21f4-4b8e-a013-3a3a22733eb5",
   "metadata": {},
   "source": [
    "Ejercicio 5 - Comparación de archivos\n",
    "\n",
    "Escribe una función que reciba dos rutas de archivos de texto y devuelva las palabras comunes a ambos archivos, así como las palabras únicas de cada uno. Debes retornar un diccionario con tres claves: \"comunes\", \"solo_en_archivo1\" y \"solo_en_archivo2\", y los valores deben ser conjuntos con las palabras correspondientes.\n",
    "\n",
    "    Pistas: Puedes leer los archivos y usar conjuntos (set) para hacer intersecciones y diferencias de las palabras de cada archivo."
   ]
  },
  {
   "cell_type": "code",
   "execution_count": 296,
   "id": "3867610c-7bf0-42b7-9d30-1c33f0a8bdda",
   "metadata": {},
   "outputs": [
    {
     "name": "stdout",
     "output_type": "stream",
     "text": [
      "{'comunes': ['el', 'de', 'las', 'en', 'la'], 'solo_en_archivo1': ['aire', 'y', 'disfrutan', 'para', 'al', 'parque', 'días', 'playa', 'verano', 'juegos', 'largos', 'ir', 'son', 'personas', 'libre', 'a', 'calurosos', 'aprovechan', 'los', 'algunos', 'paseos'], 'solo_en_archivo2': ['ritmo', 'rápidamente', 'embargo,', 'actualidad', 'calidad', 'tecnología', 'avanza', 'plantea', 'desafíos', 'permiten', 'mejorar', 'también', 'innovaciones', 'sin', 'acelerado', 'vida']}\n"
     ]
    }
   ],
   "source": [
    "def comparar_archivos(ruta_1, ruta_2):\n",
    "    try:\n",
    "        with open(ruta_1) as a_1, open(ruta_2) as a_2:\n",
    "            #pal_1 = []\n",
    "            #for linea in a_1:\n",
    "            #    pal_1.extend(pal.strip('.').lower() for pal in linea.split())\n",
    "            #    \n",
    "            #pal_2 = []\n",
    "            #for linea in a_2:\n",
    "            #    pal_2.extend(pal.strip('.').lower() for pal in linea.split())\n",
    "\n",
    "            pal_1 = set(pal.strip('.').lower() for linea in a_1 for pal in linea.split())\n",
    "            pal_2 = set(pal.strip('.').lower() for linea in a_2 for pal in linea.split())\n",
    "            \n",
    "            return {\n",
    "                \"comunes\": list(pal_1 & pal_2),\n",
    "                \"solo_en_archivo1\": list(pal_1 - pal_2),\n",
    "                \"solo_en_archivo2\": list(pal_2 - pal_1)\n",
    "            }\n",
    "    except FileNotFoundError as e:\n",
    "        filename = str(e).split(': ')[1]\n",
    "        print(f\"Archivo no encontrado: {filename}\")\n",
    "    except Exception as e:\n",
    "        print(f\"Error: {e}\")\n",
    "    \n",
    "ruta_1 = os.path.join(\"archivos\", \"clase_6_ejercicio_5_archivo_1.txt\")\n",
    "ruta_2 = os.path.join(\"archivos\", \"clase_6_ejercicio_5_archivo_2.txt\")\n",
    "print(comparar_archivos(ruta_1, ruta_2))"
   ]
  },
  {
   "cell_type": "markdown",
   "id": "53fe3063-a293-414e-841d-01d5a456b026",
   "metadata": {},
   "source": [
    "Ejercicio 6 - Registro y búsqueda en archivos CSV\n",
    "\n",
    "Imagina que tienes un archivo CSV donde cada línea es un registro de una persona, con columnas como nombre, edad y ciudad. Escribe una función que reciba la ruta del archivo CSV y un nombre de ciudad, y devuelva una lista de las personas que viven en esa ciudad."
   ]
  },
  {
   "cell_type": "code",
   "execution_count": 304,
   "id": "1b6dba28-64d6-499c-ad06-49d6120a5f71",
   "metadata": {},
   "outputs": [
    {
     "name": "stdout",
     "output_type": "stream",
     "text": [
      "['Ana', 'Pedro']\n",
      "['Juan']\n",
      "[]\n"
     ]
    }
   ],
   "source": [
    "import csv\n",
    "import os\n",
    "\n",
    "def filtrar_por_ciudad(ruta, ciudad):\n",
    "    with open(ruta, newline='') as archivo:\n",
    "        data = csv.reader(archivo)\n",
    "        #lista = []\n",
    "        #for linea in data:\n",
    "        #   if ciudad == linea[2]:\n",
    "        #       lista.append(linea[0])\n",
    "        #return lista\n",
    "        return [linea[0] for linea in data if len(linea) > 2 and linea[2] == ciudad]\n",
    "\n",
    "\n",
    "ruta = os.path.join(\"archivos\", \"clase_6_ejercicio_6.csv\")\n",
    "print(filtrar_por_ciudad(ruta, \"Madrid\"))\n",
    "print(filtrar_por_ciudad(ruta, \"Barcelona\"))\n",
    "print(filtrar_por_ciudad(ruta, \"Valencia\"))\n"
   ]
  },
  {
   "cell_type": "markdown",
   "id": "9e5220f9-f0fa-42a4-81d2-e2be6362a87d",
   "metadata": {},
   "source": [
    "Ejercicio 7 - Análisis de palabras más largas en un archivo\n",
    "\n",
    "Escribe una función que reciba la ruta de un archivo de texto y devuelva la palabra más larga de cada línea y su longitud. La función debe devolver un diccionario donde las claves sean los números de línea y los valores sean tuplas con la palabra más larga y su longitud.\n",
    "\n",
    "    Pistas: Lee el archivo línea por línea, utiliza split() para obtener las palabras y encuentra la palabra más larga con max y key=len."
   ]
  },
  {
   "cell_type": "code",
   "execution_count": 310,
   "id": "c4d61569-76ab-43d4-904f-72a136c37241",
   "metadata": {},
   "outputs": [
    {
     "name": "stdout",
     "output_type": "stream",
     "text": [
      "{0: ('prueba', 6), 1: ('universo', 8), 2: ('girando', 7), 3: ('sistema', 7), 4: ('fascinantes', 11)}\n"
     ]
    }
   ],
   "source": [
    "import os\n",
    "\n",
    "def buscar_palabra_mas_larga(ruta):\n",
    "    try:\n",
    "        with open(ruta) as archivo:\n",
    "            dict = {}\n",
    "            for index, linea in enumerate(archivo):\n",
    "                max_len = 0\n",
    "                max_pal = \"\"\n",
    "                for pal in linea.split():\n",
    "                    if len(pal) > max_len:\n",
    "                        max_len = len(pal)\n",
    "                        max_pal = pal\n",
    "                dict[index] = (max_pal, max_len)\n",
    "            return dict\n",
    "            #return {\n",
    "            #    index: max(((pal, len(pal)) for pal in linea.split()), key=lambda x: x[1], default=(\"\", 0))\n",
    "            #    for index, linea in enumerate(archivo)\n",
    "            #}\n",
    "    except FileNotFoundError as e:\n",
    "        print(f\"Archivo no encontrado: {e.filename}\")\n",
    "    except Exception as e:\n",
    "        print(f\"Error: {e}\")\n",
    "    \n",
    "ruta = os.path.join(\"archivos\", \"clase_6_ejercicio_7.txt\")\n",
    "print(buscar_palabra_mas_larga(ruta))"
   ]
  },
  {
   "cell_type": "markdown",
   "id": "16a4b551-17d3-4ea7-8466-b974ecd571a7",
   "metadata": {},
   "source": [
    "Ejercicio 8 - Análisis de uso de palabras en múltiples archivos\n",
    "\n",
    "Escribe una función que reciba una lista de rutas de archivos de texto y devuelva un diccionario que contenga la frecuencia de cada palabra en todos los archivos combinados.\n",
    "\n",
    "    Pistas: Usa un diccionario para almacenar la frecuencia de cada palabra y asegúrate de procesar cada archivo adecuadamente, controlando posibles errores como archivos inexistentes."
   ]
  },
  {
   "cell_type": "code",
   "execution_count": 336,
   "id": "5c0336ae-501d-4672-a621-99cf380792a2",
   "metadata": {},
   "outputs": [
    {
     "name": "stdout",
     "output_type": "stream",
     "text": [
      "defaultdict(<class 'int'>, {})\n",
      "Archivo no encontrado: 'bad'\n"
     ]
    },
    {
     "data": {
      "text/plain": [
       "{'el': 9,\n",
       " 'sol': 2,\n",
       " 'brilla': 1,\n",
       " 'en': 2,\n",
       " 'cielo': 3,\n",
       " 'es': 4,\n",
       " 'azul': 1,\n",
       " 'brillante': 1,\n",
       " 'día': 1,\n",
       " 'soleado': 1,\n",
       " 'y': 4,\n",
       " 'está': 1,\n",
       " 'claro': 1,\n",
       " 'la': 6,\n",
       " 'naturaleza': 3,\n",
       " 'asombrosa': 1,\n",
       " 'los': 2,\n",
       " 'árboles,': 1,\n",
       " 'las': 2,\n",
       " 'montañas': 1,\n",
       " 'ríos': 1,\n",
       " 'son': 1,\n",
       " 'testigos': 1,\n",
       " 'del': 1,\n",
       " 'tiempo': 1,\n",
       " 'flora': 1,\n",
       " 'fauna': 1,\n",
       " 'de': 3,\n",
       " 'cada': 2,\n",
       " 'ecosistema': 1,\n",
       " 'se': 1,\n",
       " 'adapta': 1,\n",
       " 'para': 1,\n",
       " 'sobrevivir': 1,\n",
       " 'clima': 1,\n",
       " 'cambia,': 1,\n",
       " 'estaciones': 1,\n",
       " 'pasan,': 1,\n",
       " 'pero': 1,\n",
       " 'esencia': 1,\n",
       " 'permanece': 1,\n",
       " 'especie': 1,\n",
       " 'juega': 1,\n",
       " 'un': 1,\n",
       " 'papel': 1,\n",
       " 'importante': 1,\n",
       " 'ciclo': 1,\n",
       " 'vida': 1,\n",
       " 'ser': 1,\n",
       " 'humano': 1,\n",
       " 'debe': 1,\n",
       " 'aprender': 1,\n",
       " 'a': 1,\n",
       " 'cuidar': 1,\n",
       " 'respetar': 1}"
      ]
     },
     "execution_count": 336,
     "metadata": {},
     "output_type": "execute_result"
    }
   ],
   "source": [
    "import os\n",
    "\n",
    "def frecuencia_entre_archivos(archivos):\n",
    "    frecuencias = {}\n",
    "    for ruta in archivos:\n",
    "        try:\n",
    "            with open(ruta) as archivo:\n",
    "                for linea in archivo:\n",
    "                    for pal in linea.split():\n",
    "                        pal = pal.strip('.').lower()\n",
    "                        if pal in frecuencias:\n",
    "                            frecuencias[pal] += 1\n",
    "                        else:\n",
    "                            frecuencias[pal] = 1\n",
    "        \n",
    "        except FileNotFoundError as e:\n",
    "            filename = str(e).split(': ')[1]\n",
    "            print(f\"Archivo no encontrado: {filename}\")\n",
    "        except Exception as e:\n",
    "            print(f\"Error: {e}\")\n",
    "    return frecuencias\n",
    "    \n",
    "ruta_1 = os.path.join(\"archivos\", \"clase_6_ejercicio_8_arch_1.txt\")\n",
    "ruta_2 = os.path.join(\"archivos\", \"clase_6_ejercicio_8_arch_2.txt\")\n",
    "frecuencia_entre_archivos([ruta_1,ruta_2,\"bad\"])"
   ]
  },
  {
   "cell_type": "markdown",
   "id": "b65b3cb7-acba-4ae1-a886-a9d450b973cf",
   "metadata": {},
   "source": [
    "Ejercicio 9 - Escritura y manipulación de logs de errores\n",
    "\n",
    "Escribe una función que reciba una lista de mensajes de error y la ruta de un archivo log. La función debe escribir los mensajes en el archivo, con la fecha y hora actual antes de cada mensaje. Luego, implementa una función que lea el archivo log y devuelva los últimos n errores registrados.\n",
    "\n",
    "    Pistas: Usa el módulo datetime para obtener la fecha y hora actual. Para obtener los últimos n errores, puedes cargar el archivo en una lista y seleccionar las últimas n líneas, o bien utilizar un método alternativo para leer solo las líneas finales si el archivo es muy grande."
   ]
  },
  {
   "cell_type": "code",
   "execution_count": 210,
   "id": "078c4075-744c-4770-a79b-0ebcd2e109da",
   "metadata": {},
   "outputs": [
    {
     "name": "stdout",
     "output_type": "stream",
     "text": [
      "08/11/2024 12:06:21 - Error: Ocurrió un problema al intentar leer el archivo.\n",
      "\n",
      "08/11/2024 12:06:22 - Error: El archivo contiene caracteres en un formato no soportado.\n",
      "\n",
      "08/11/2024 12:06:23 - Error: El archivo no parece ser un archivo de texto.\n",
      "\n",
      "08/11/2024 12:06:24 - Error: No se pudo escribir en el archivo de destino.\n",
      "\n",
      "08/11/2024 12:06:25 - Error inesperado: Ocurrió un problema no identificado al procesar los archivos.\n",
      "\n"
     ]
    }
   ],
   "source": [
    "import os\n",
    "import time\n",
    "from datetime import datetime\n",
    "from collections import deque\n",
    "\n",
    "def grabar_log(ruta, errores):\n",
    "    with open(ruta, 'w') as log:\n",
    "        for error in errores:\n",
    "            try:\n",
    "                log.write(f'{datetime.now().strftime(\"%d/%m/%Y %H:%M:%S\")} - {error}\\n')\n",
    "                time.sleep(1)\n",
    "            except:\n",
    "                print(f'Error al escribir el mensaje de error: {error}')\n",
    "\n",
    "def leer_log(ruta, n):\n",
    "    try:\n",
    "        with open(ruta, 'r') as log:\n",
    "            ultimos_logs = deque(log, maxlen=n)\n",
    "            for log in ultimos_logs:\n",
    "                print(log)\n",
    "    except FileNotFoundError:\n",
    "        print(f\"Error: El archivo {ruta} no se encuentra.\")\n",
    "    except Exception as e:\n",
    "        print(f\"Error: {e}\")\n",
    "\n",
    "mensajes_error = [\n",
    "    \"Error: No se encontró el archivo en la ruta especificada.\",\n",
    "    \"Error: No tienes permisos para leer el archivo.\",\n",
    "    \"Advertencia: El archivo está vacío y no se encontraron palabras para procesar.\",\n",
    "    \"Error: La ruta especificada no es válida o no existe.\",\n",
    "    \"Error: Ocurrió un problema al intentar leer el archivo.\",\n",
    "    \"Error: El archivo contiene caracteres en un formato no soportado.\",\n",
    "    \"Error: El archivo no parece ser un archivo de texto.\",\n",
    "    \"Error: No se pudo escribir en el archivo de destino.\",\n",
    "    \"Error inesperado: Ocurrió un problema no identificado al procesar los archivos.\"\n",
    "]\n",
    "\n",
    "ruta = os.path.join(\"archivos\", \"clase_6_ejercicio_9_log_errores.txt\")\n",
    "grabar_log(ruta, mensajes_error)\n",
    "leer_log(ruta, 5)"
   ]
  },
  {
   "cell_type": "markdown",
   "id": "bdc2a3ff-5a4b-453e-8801-9edde9469864",
   "metadata": {},
   "source": [
    "Ejercicio 10 - Generador de estadísticas de palabras únicas en múltiples archivos\n",
    "\n",
    "Crea una función que reciba una lista de rutas de archivos de texto y devuelva un diccionario con las siguientes estadísticas:\n",
    "\n",
    "    La cantidad total de palabras únicas en todos los archivos.\n",
    "    La palabra única más frecuente en todos los archivos y su frecuencia.\n",
    "    La longitud promedio de las palabras únicas.\n",
    "\n",
    "    Pistas: Lee los archivos y usa un conjunto (set) para las palabras únicas, y luego calcula las estadísticas pedidas."
   ]
  },
  {
   "cell_type": "code",
   "execution_count": 260,
   "id": "153d758d-5e2b-4b1b-90f7-5c5d91011401",
   "metadata": {},
   "outputs": [
    {
     "name": "stdout",
     "output_type": "stream",
     "text": [
      "Error: El archivo bad no se encuentra.\n",
      "251 / 43\n",
      "{'cantidad_unicas': 43, 'longitud_promedio': 5.837209302325581}\n"
     ]
    }
   ],
   "source": [
    "import os\n",
    "\n",
    "def obtener_estadisticas(palabras):\n",
    "    dict = {}\n",
    "    unicas = {k:v for k,v in palabras.items() if v == 1}\n",
    "    dict['cantidad_unicas'] = len(unicas)\n",
    "    long_todas = 0\n",
    "    for key in unicas.keys():\n",
    "        #print(f'{key} - {len(key)}')\n",
    "        long_todas += len(key)\n",
    "    print(f'{long_todas} / {len(unicas)}')\n",
    "    dict['longitud_promedio'] = long_todas / len(unicas)\n",
    "    return dict\n",
    "    \n",
    "def palabras_unicas(rutas):\n",
    "    palabras = {}\n",
    "    for ruta in rutas:\n",
    "        try:\n",
    "            with open(ruta) as archivo:\n",
    "                   for linea in archivo:\n",
    "                       for palabra in linea.split():\n",
    "                           palabra = palabra.strip('.').lower()\n",
    "                           if palabra in palabras:\n",
    "                               palabras[palabra] += 1\n",
    "                           else:\n",
    "                               palabras[palabra] = 1\n",
    "        except FileNotFoundError:\n",
    "            print(f\"Error: El archivo {ruta} no se encuentra.\")\n",
    "        except Exception as e:\n",
    "            print(f\"Error: {e}\")\n",
    "    \n",
    "    return obtener_estadisticas(palabras)\n",
    "\n",
    "ruta_1 = os.path.join(\"archivos\", \"clase_6_ejercicio_8_arch_1.txt\")\n",
    "ruta_2 = os.path.join(\"archivos\", \"clase_6_ejercicio_8_arch_2.txt\")\n",
    "print(palabras_unicas([ruta_1,ruta_2,\"bad\"]))"
   ]
  },
  {
   "cell_type": "code",
   "execution_count": null,
   "id": "3dbb30ce-7e2c-42d0-9843-6720db35aa62",
   "metadata": {},
   "outputs": [],
   "source": []
  }
 ],
 "metadata": {
  "kernelspec": {
   "display_name": "Python 3 (ipykernel)",
   "language": "python",
   "name": "python3"
  },
  "language_info": {
   "codemirror_mode": {
    "name": "ipython",
    "version": 3
   },
   "file_extension": ".py",
   "mimetype": "text/x-python",
   "name": "python",
   "nbconvert_exporter": "python",
   "pygments_lexer": "ipython3",
   "version": "3.12.4"
  }
 },
 "nbformat": 4,
 "nbformat_minor": 5
}
