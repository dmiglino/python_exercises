{
 "cells": [
  {
   "cell_type": "code",
   "execution_count": 1,
   "id": "2ab14077-5f72-488e-9f2e-209783130291",
   "metadata": {},
   "outputs": [],
   "source": [
    "def fibonacci(n):\n",
    "    if n < 0:\n",
    "        print(\"El parametro debe ser positivo\")\n",
    "    elif n == 1 or n ==2:\n",
    "        return 1\n",
    "    else:\n",
    "        return fibonacci(n-1) + fibonacci(n-2)"
   ]
  },
  {
   "cell_type": "code",
   "execution_count": 2,
   "id": "63eec590-3360-4a83-aed6-6507f1178c1c",
   "metadata": {},
   "outputs": [],
   "source": [
    "# Valores a calcular su fibonacci\n",
    "numeros = [30, 31, 32, 33, 34] #, 35, 36, 37]"
   ]
  },
  {
   "cell_type": "code",
   "execution_count": 3,
   "id": "043c82fe-eb7b-4609-9e3c-8db9edf24a40",
   "metadata": {},
   "outputs": [
    {
     "name": "stdout",
     "output_type": "stream",
     "text": [
      "Tiempo de ejecucion secuencialmente: 8.550446510314941 segundos.\n"
     ]
    }
   ],
   "source": [
    "import time\n",
    "start_time = time.time()\n",
    "\n",
    "resultados_sec = [fibonacci(n) for n in numeros]\n",
    "#print(resultados_sec)\n",
    "\n",
    "tiempo_secuencial = (time.time() - start_time)\n",
    "print(\"Tiempo de ejecucion secuencialmente: %s segundos.\" % (time.time() - start_time))\n"
   ]
  },
  {
   "cell_type": "code",
   "execution_count": 4,
   "id": "9cf249ab-4ab8-48b6-b8ff-bb3768925c7b",
   "metadata": {},
   "outputs": [
    {
     "name": "stdout",
     "output_type": "stream",
     "text": [
      "Tiempo de ejecucion con multithreading: 6.508376598358154 segundos.\n"
     ]
    }
   ],
   "source": [
    "# Multithreading\n",
    "\n",
    "import threading\n",
    "import time\n",
    "\n",
    "start_time = time.time()\n",
    "\n",
    "t0 = threading.Thread(target=fibonacci, args=(numeros[0],))\n",
    "t1 = threading.Thread(target=fibonacci, args=(numeros[1],))\n",
    "t2 = threading.Thread(target=fibonacci, args=(numeros[2],))\n",
    "t3 = threading.Thread(target=fibonacci, args=(numeros[3],))\n",
    "t4 = threading.Thread(target=fibonacci, args=(numeros[4],))\n",
    "#t5 = threading.Thread(target=fibonacci, args=(numeros[5],))\n",
    "#t6 = threading.Thread(target=fibonacci, args=(numeros[6],))\n",
    "#t7 = threading.Thread(target=fibonacci, args=(numeros[7],))\n",
    "\n",
    "# Ejecuta todos los threads\n",
    "t0.start()\n",
    "t1.start()\n",
    "t2.start()\n",
    "t3.start()\n",
    "t4.start()\n",
    "#t5.start()\n",
    "#t6.start()\n",
    "#t7.start()\n",
    "\n",
    "# Espera a que todos terminen de ejecutar\n",
    "t0.join()\n",
    "t1.join()\n",
    "t2.join()\n",
    "t3.join()\n",
    "t4.join()\n",
    "#t5.join()\n",
    "#t6.join()\n",
    "#t7.join()\n",
    "\n",
    "tiempo_multithreading = (time.time() - start_time)\n",
    "print(\"Tiempo de ejecucion con multithreading: %s segundos.\" % (time.time() - start_time))"
   ]
  },
  {
   "cell_type": "code",
   "execution_count": 5,
   "id": "40381c17-b847-4d31-8859-3ca14cb6d28b",
   "metadata": {},
   "outputs": [
    {
     "name": "stdout",
     "output_type": "stream",
     "text": [
      "Tiempo de ejecucion con multiprocessing: 2.788325071334839 segundos.\n"
     ]
    }
   ],
   "source": [
    "# Multiprocessing\n",
    "import time\n",
    "from multiprocessing import Pool\n",
    "\n",
    "# Ejecutar con multiprocessing\n",
    "if __name__ == \"__main__\":\n",
    "    start_time = time.time()\n",
    "    \n",
    "    # Pool() crea un grupo de procesos que pueden ejecutar tareas en paralelo\n",
    "    with Pool() as pool:\n",
    "        # El método map de Pool distribuye automáticamente las tareas entre los procesos\n",
    "        resultados_paralelo = pool.map(fibonacci, numeros)\n",
    "        \n",
    "    #print(resultados_paralelo)\n",
    "    tiempo_multiprocessing = (time.time() - start_time)\n",
    "    print(\"Tiempo de ejecucion con multiprocessing: %s segundos.\" % (time.time() - start_time))\n"
   ]
  },
  {
   "cell_type": "code",
   "execution_count": 6,
   "id": "f9a50c10-55f2-4fe6-8a5a-9bc922b55343",
   "metadata": {},
   "outputs": [
    {
     "data": {
      "image/png": "[encoded data removed]",
      "text/plain": [
       "<Figure size 640x480 with 1 Axes>"
      ]
     },
     "metadata": {},
     "output_type": "display_data"
    }
   ],
   "source": [
    "import matplotlib.pyplot as plt\n",
    "\n",
    "# Datos\n",
    "x = [\"Secuencial\", \"Multithreading\", \"Multiprocessing\"]\n",
    "y = [tiempo_secuencial, tiempo_multithreading, tiempo_multiprocessing]\n",
    "\n",
    "# Gráfico de barras\n",
    "fig, ax = plt.subplots()\n",
    "ax.bar(x = x, height = y)\n",
    "plt.show()\n",
    "\n",
    "#print(tiempo_secuencial)\n",
    "#print(tiempo_multithreading)\n",
    "#print(tiempo_multiprocessing)"
   ]
  },
  {
   "cell_type": "code",
   "execution_count": null,
   "id": "4174aaf7-41b7-44d2-80ad-f9d38de69698",
   "metadata": {},
   "outputs": [],
   "source": []
  }
 ],
 "metadata": {
  "kernelspec": {
   "display_name": "Python 3 (ipykernel)",
   "language": "python",
   "name": "python3"
  },
  "language_info": {
   "codemirror_mode": {
    "name": "ipython",
    "version": 3
   },
   "file_extension": ".py",
   "mimetype": "text/x-python",
   "name": "python",
   "nbconvert_exporter": "python",
   "pygments_lexer": "ipython3",
   "version": "3.12.4"
  }
 },
 "nbformat": 4,
 "nbformat_minor": 5
}
