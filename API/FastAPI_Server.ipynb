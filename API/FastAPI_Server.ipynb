{
 "cells": [
  {
   "cell_type": "code",
   "execution_count": 4,
   "id": "69715f83-a03a-4c0e-8a59-8ee923379ecf",
   "metadata": {},
   "outputs": [
    {
     "ename": "SyntaxError",
     "evalue": "invalid syntax (2173682521.py, line 1)",
     "output_type": "error",
     "traceback": [
      "\u001b[0;36m  Cell \u001b[0;32mIn[4], line 1\u001b[0;36m\u001b[0m\n\u001b[0;31m    pip install fastapi\u001b[0m\n\u001b[0m        ^\u001b[0m\n\u001b[0;31mSyntaxError\u001b[0m\u001b[0;31m:\u001b[0m invalid syntax\n"
     ]
    }
   ],
   "source": [
    "pip install fastapi"
   ]
  },
  {
   "cell_type": "code",
   "execution_count": 5,
   "id": "445c9c35-5ef1-4df1-956a-314a61f78100",
   "metadata": {},
   "outputs": [
    {
     "name": "stdout",
     "output_type": "stream",
     "text": [
      "Collecting uvicorn\n",
      "  Downloading uvicorn-0.32.0-py3-none-any.whl.metadata (6.6 kB)\n",
      "Requirement already satisfied: click>=7.0 in /home/diegomiglino/anaconda3/lib/python3.12/site-packages (from uvicorn) (8.1.7)\n",
      "Collecting h11>=0.8 (from uvicorn)\n",
      "  Downloading h11-0.14.0-py3-none-any.whl.metadata (8.2 kB)\n",
      "Downloading uvicorn-0.32.0-py3-none-any.whl (63 kB)\n",
      "\u001b[2K   \u001b[90m━━━━━━━━━━━━━━━━━━━━━━━━━━━━━━━━━━━━━━━━\u001b[0m \u001b[32m63.7/63.7 kB\u001b[0m \u001b[31m869.9 kB/s\u001b[0m eta \u001b[36m0:00:00\u001b[0m\u001b[36m0:00:01\u001b[0m\n",
      "\u001b[?25hDownloading h11-0.14.0-py3-none-any.whl (58 kB)\n",
      "\u001b[2K   \u001b[90m━━━━━━━━━━━━━━━━━━━━━━━━━━━━━━━━━━━━━━━━\u001b[0m \u001b[32m58.3/58.3 kB\u001b[0m \u001b[31m3.2 MB/s\u001b[0m eta \u001b[36m0:00:00\u001b[0m\n",
      "\u001b[?25hInstalling collected packages: h11, uvicorn\n",
      "Successfully installed h11-0.14.0 uvicorn-0.32.0\n",
      "Note: you may need to restart the kernel to use updated packages.\n"
     ]
    }
   ],
   "source": [
    "pip install uvicorn"
   ]
  },
  {
   "cell_type": "code",
   "execution_count": null,
   "id": "c967cb08-b0b2-4ece-a7ca-f98931fbba90",
   "metadata": {},
   "outputs": [
    {
     "name": "stdout",
     "output_type": "stream",
     "text": [
      "Requirement already satisfied: asyncio in /home/diegomiglino/anaconda3/lib/python3.12/site-packages (3.4.3)\n"
     ]
    }
   ],
   "source": [
    "pip install asyncio"
   ]
  },
  {
   "cell_type": "code",
   "execution_count": 1,
   "id": "053d85a0-ed53-427f-8934-d9ffb7d7ef0f",
   "metadata": {},
   "outputs": [
    {
     "name": "stderr",
     "output_type": "stream",
     "text": [
      "INFO:     Started server process [5734]\n",
      "INFO:     Waiting for application startup.\n",
      "INFO:     Application startup complete.\n",
      "INFO:     Uvicorn running on http://127.0.0.1:8000 (Press CTRL+C to quit)\n"
     ]
    },
    {
     "name": "stdout",
     "output_type": "stream",
     "text": [
      "INFO:     127.0.0.1:57804 - \"GET /get_value HTTP/1.1\" 200 OK\n",
      "INFO:     127.0.0.1:57812 - \"GET /get_value HTTP/1.1\" 200 OK\n",
      "INFO:     127.0.0.1:57824 - \"GET /get_value HTTP/1.1\" 200 OK\n",
      "INFO:     127.0.0.1:57840 - \"GET /get_value HTTP/1.1\" 200 OK\n",
      "INFO:     127.0.0.1:57842 - \"GET /get_value HTTP/1.1\" 200 OK\n",
      "INFO:     127.0.0.1:57858 - \"GET /get_value HTTP/1.1\" 200 OK\n",
      "INFO:     127.0.0.1:57874 - \"GET /get_value HTTP/1.1\" 200 OK\n",
      "INFO:     127.0.0.1:57882 - \"GET /get_value HTTP/1.1\" 200 OK\n",
      "INFO:     127.0.0.1:57894 - \"GET /get_value HTTP/1.1\" 200 OK\n",
      "INFO:     127.0.0.1:57906 - \"GET /get_value HTTP/1.1\" 200 OK\n",
      "INFO:     127.0.0.1:57908 - \"GET /get_value HTTP/1.1\" 200 OK\n",
      "INFO:     127.0.0.1:57918 - \"GET /get_value HTTP/1.1\" 200 OK\n",
      "INFO:     127.0.0.1:57922 - \"GET /get_value HTTP/1.1\" 200 OK\n",
      "INFO:     127.0.0.1:57934 - \"GET /get_value HTTP/1.1\" 200 OK\n",
      "INFO:     127.0.0.1:57948 - \"GET /get_value HTTP/1.1\" 200 OK\n",
      "INFO:     127.0.0.1:57950 - \"GET /get_value HTTP/1.1\" 200 OK\n",
      "INFO:     127.0.0.1:57958 - \"GET /get_value HTTP/1.1\" 200 OK\n",
      "INFO:     127.0.0.1:57966 - \"GET /get_value HTTP/1.1\" 200 OK\n",
      "INFO:     127.0.0.1:57978 - \"GET /get_value HTTP/1.1\" 200 OK\n",
      "INFO:     127.0.0.1:57988 - \"GET /get_value HTTP/1.1\" 200 OK\n"
     ]
    },
    {
     "name": "stderr",
     "output_type": "stream",
     "text": [
      "INFO:     Shutting down\n",
      "INFO:     Waiting for application shutdown.\n",
      "INFO:     Application shutdown complete.\n",
      "INFO:     Finished server process [5734]\n"
     ]
    }
   ],
   "source": [
    "from fastapi import FastAPI\n",
    "import nest_asyncio\n",
    "import uvicorn\n",
    "import random\n",
    "\n",
    "app = FastAPI()\n",
    "\n",
    "max_value = 1000\n",
    "\n",
    "@app.post(\"/set_max/{max}\")\n",
    "async def set_max(max: int):\n",
    "    global max_value\n",
    "    max_value = max\n",
    "    return {\"message\": \"Max value updated!\", \"max_value\": max_value}\n",
    "\n",
    "@app.get(\"/get_value\")\n",
    "async def get_value():\n",
    "    num = random.randint(1, max_value)\n",
    "    return num\n",
    "    \n",
    "if __name__ == \"__main__\":\n",
    "    nest_asyncio.apply()\n",
    "    uvicorn.run(app)\n"
   ]
  },
  {
   "cell_type": "code",
   "execution_count": null,
   "id": "f17c5b1b-aaa7-4c4d-ac70-0cd793a0df80",
   "metadata": {},
   "outputs": [],
   "source": []
  }
 ],
 "metadata": {
  "kernelspec": {
   "display_name": "Python 3 (ipykernel)",
   "language": "python",
   "name": "python3"
  },
  "language_info": {
   "codemirror_mode": {
    "name": "ipython",
    "version": 3
   },
   "file_extension": ".py",
   "mimetype": "text/x-python",
   "name": "python",
   "nbconvert_exporter": "python",
   "pygments_lexer": "ipython3",
   "version": "3.12.4"
  }
 },
 "nbformat": 4,
 "nbformat_minor": 5
}
