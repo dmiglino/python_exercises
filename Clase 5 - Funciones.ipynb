{
 "cells": [
  {
   "cell_type": "markdown",
   "id": "b017e800-f78c-4ebf-9886-f860eb626912",
   "metadata": {},
   "source": [
    "Ejercicio 1: Escribe una función que reciba como entrada una lista con números y devuelva como resultado una lista con los cuadrados de los números contenidos en la lista de entrada."
   ]
  },
  {
   "cell_type": "code",
   "execution_count": 1,
   "id": "2c9f68b5-f52f-4266-ac09-18450aa37983",
   "metadata": {},
   "outputs": [
    {
     "name": "stdout",
     "output_type": "stream",
     "text": [
      "[1, 4, 9, 16, 25, 36, 49, 64, 81]\n"
     ]
    }
   ],
   "source": [
    "def cuadrados(lista):\n",
    "    results = []\n",
    "    for num in lista:\n",
    "        results.append(num ** 2)\n",
    "    return results\n",
    "\n",
    "print(cuadrados([1,2,3,4,5,6,7,8,9]))"
   ]
  },
  {
   "cell_type": "markdown",
   "id": "299c3864-e374-4ed7-b990-521327f2adab",
   "metadata": {},
   "source": [
    "Ejercicio 2: Escribe una función que reciba números como entrada y devuelva la suma de los mismos. La función debe ser capaz de recibir una cantidad indeterminada de números. La función no debe recibir directamente ningún objeto complejo (lista, conjunto, etc.)."
   ]
  },
  {
   "cell_type": "code",
   "execution_count": 3,
   "id": "0004bf16-7c42-4186-a171-452552ec51a9",
   "metadata": {},
   "outputs": [
    {
     "name": "stdout",
     "output_type": "stream",
     "text": [
      "21\n"
     ]
    }
   ],
   "source": [
    "def sumar(*numeros):\n",
    "    result = 0\n",
    "    for num in numeros:\n",
    "        result += num\n",
    "    return result\n",
    "\n",
    "print(sumar(3, 6, 6, 5, 1))"
   ]
  },
  {
   "cell_type": "markdown",
   "id": "5dc05459-5c7b-4493-a553-bee5f7bdf37b",
   "metadata": {},
   "source": [
    "Ejercicio 3 - Escribe una función que reciba un string como entrada y devuelva el string al revés. Ejemplo: si el string de entrada es 'hola', el resultado será 'aloh'."
   ]
  },
  {
   "cell_type": "code",
   "execution_count": 4,
   "id": "62277d9a-94d4-4156-b077-bb53ec4e4b11",
   "metadata": {},
   "outputs": [
    {
     "name": "stdout",
     "output_type": "stream",
     "text": [
      "aloh\n"
     ]
    }
   ],
   "source": [
    "def invertir(cadena):\n",
    "    return cadena[::-1]\n",
    "\n",
    "print(invertir('hola'))"
   ]
  },
  {
   "cell_type": "markdown",
   "id": "c416b4c4-da9f-4790-be17-9e0a993eee1c",
   "metadata": {},
   "source": [
    "Ejercicio 4 - Escribe una función lambda que, al igual que la función desarrollada en el ejercicio anterior, invierta el string recibido como parámetro. "
   ]
  },
  {
   "cell_type": "code",
   "execution_count": 5,
   "id": "94ea2ef6-1d7d-464e-9f56-b48ec5766e21",
   "metadata": {},
   "outputs": [
    {
     "name": "stdout",
     "output_type": "stream",
     "text": [
      "aloh\n"
     ]
    }
   ],
   "source": [
    "voltear = lambda x : x[::-1]\n",
    "print(voltear('hola'))"
   ]
  },
  {
   "cell_type": "markdown",
   "id": "f1b9b43a-e070-4a38-85e3-95ddaded9b2c",
   "metadata": {},
   "source": [
    "Ejercicio 5 - Escribe una función que compruebe si un número se encuentra dentro de un rango específico."
   ]
  },
  {
   "cell_type": "code",
   "execution_count": 8,
   "id": "74710e11-c0c6-403e-8d74-b0b36d9f3b82",
   "metadata": {},
   "outputs": [
    {
     "name": "stdout",
     "output_type": "stream",
     "text": [
      "False\n",
      "True\n"
     ]
    }
   ],
   "source": [
    "def esta_en_rango(num, inicio, fin):\n",
    "    return num in range(inicio, fin+1)\n",
    "\n",
    "print(esta_en_rango(8, 2, 7))\n",
    "print(esta_en_rango(7, 2, 7))"
   ]
  },
  {
   "cell_type": "markdown",
   "id": "2f1c3090-5c1d-4530-9da4-f82e98097b9f",
   "metadata": {},
   "source": [
    "Ejercicio 6 - Escribe una función que reciba un número entero positivo como parámetro y devuelva una lista que contenga los 5 primeros múltiplos de dicho número. Por ejemplo, si la función recibe el número 3, devolverá la lista [3, 6, 9, 12, 15]. Si la función recibe un parámetro incorrecto (por ejemplo, un múmero menor o igual a cero), mostrará un mensaje de error por pantalla y devolverá una lista vacía."
   ]
  },
  {
   "cell_type": "code",
   "execution_count": 10,
   "id": "1ba885ec-7e0d-43a2-8878-202dcfbbf999",
   "metadata": {},
   "outputs": [
    {
     "name": "stdout",
     "output_type": "stream",
     "text": [
      "[3, 6, 9, 12, 15]\n"
     ]
    }
   ],
   "source": [
    "def primeros_cinco_multiplos(num):\n",
    "    return [num*x for x in range(1,5+1)]\n",
    "\n",
    "print(primeros_cinco_multiplos(3))"
   ]
  },
  {
   "cell_type": "markdown",
   "id": "77f346b8-0c96-436b-b9f5-72d1cd5a0eeb",
   "metadata": {},
   "source": [
    "Ejercicio 7 - Escribe una función que reciba una lista como parámetro y compruebe si la lista tiene duplicados. La función devolverá True si la lista tiene duplicados y False si no los tiene."
   ]
  },
  {
   "cell_type": "code",
   "execution_count": 11,
   "id": "91838b41-6b55-4b7b-9e4d-080633d43b49",
   "metadata": {},
   "outputs": [
    {
     "name": "stdout",
     "output_type": "stream",
     "text": [
      "True\n",
      "False\n"
     ]
    }
   ],
   "source": [
    "def tiene_duplicados(lista):\n",
    "    return len(lista) != len(set(lista))\n",
    "\n",
    "print(tiene_duplicados([1,5,7,9,3,1]))\n",
    "print(tiene_duplicados([1,5,7,9,3,4]))"
   ]
  },
  {
   "cell_type": "markdown",
   "id": "0451d2df-ed7e-43e3-82f1-c626e5c0845e",
   "metadata": {},
   "source": [
    "Ejercicio 8 - Escribe una función lambda que, al igual que la función desarrollada en el ejercicio anterior, reciba una lista como parámetro y compruebe si la lista tiene duplicados. La función devolverá True si la lista tiene duplicados y False si no los tiene."
   ]
  },
  {
   "cell_type": "code",
   "execution_count": 12,
   "id": "6e8a2d96-7e9b-4a63-9e11-bb35a449ff90",
   "metadata": {},
   "outputs": [
    {
     "name": "stdout",
     "output_type": "stream",
     "text": [
      "True\n",
      "False\n"
     ]
    }
   ],
   "source": [
    "duplis = lambda x : len(x) != len(set(x))\n",
    "\n",
    "print(duplis([1,5,7,9,3,1]))\n",
    "print(duplis([1,5,7,9,3,4]))"
   ]
  },
  {
   "cell_type": "markdown",
   "id": "399fbabd-c768-4bbf-b1b7-1a801b3bda89",
   "metadata": {},
   "source": [
    "Ejercicio 9 - Escribe una función que compruebe si un string dado es un palíndromo. Un palíndromo es una secuencia de caracteres que se lee igual de izquierda a derecha que de derecha a izquierda. Por ejemplo, la función devolverá True si recibe el string \"reconocer\" y False si recibe el string \"python\"."
   ]
  },
  {
   "cell_type": "code",
   "execution_count": 14,
   "id": "d11dd570-183b-40a9-ac7b-0e91c743c325",
   "metadata": {},
   "outputs": [
    {
     "name": "stdout",
     "output_type": "stream",
     "text": [
      "True\n",
      "False\n"
     ]
    }
   ],
   "source": [
    "def es_palindromo(cadena):\n",
    "    return cadena == cadena[::-1]\n",
    "\n",
    "print(es_palindromo('reconocer'))\n",
    "print(es_palindromo('python'))"
   ]
  },
  {
   "cell_type": "raw",
   "id": "542c31cd-90c0-4af3-8560-252a64001809",
   "metadata": {},
   "source": [
    "EJERCICIOS EXTRA"
   ]
  },
  {
   "cell_type": "markdown",
   "id": "49fb572f-229f-4d39-9dad-e1b682d12aaa",
   "metadata": {},
   "source": [
    "Ej 10 - Función de Primos en Rango\n",
    "    Escribe una función que reciba dos enteros como parámetros y devuelva una lista con todos los números primos en ese rango. La función debe validar que el segundo número sea mayor que el primero y devolver un mensaje de error en caso contrario."
   ]
  },
  {
   "cell_type": "code",
   "execution_count": 41,
   "id": "10cf63a7-d7a5-4dd4-a84d-fb420d91f4af",
   "metadata": {},
   "outputs": [
    {
     "name": "stdout",
     "output_type": "stream",
     "text": [
      "[2, 3, 5, 7, 11, 13, 17, 19, 23, 29, 31, 37, 41, 43, 47, 53, 59, 61, 67, 71, 73, 79, 83, 89, 97, 101, 103, 107, 109, 113, 127, 131, 137, 139, 149, 151, 157, 163, 167, 173, 179, 181, 191, 193, 197, 199]\n"
     ]
    }
   ],
   "source": [
    "def primos(a,b):\n",
    "    if a > b:\n",
    "        print('El segundo numero debe ser mayor al primero')\n",
    "        return []\n",
    "        \n",
    "    primos_list = []\n",
    "    for i in range(a, b + 1):\n",
    "        if i < 2:\n",
    "            continue  # Saltar números menores a 2, que no son primos\n",
    "        es_primo = True\n",
    "        for j in range(2, int(i ** 0.5) + 1):\n",
    "            if i % j == 0:\n",
    "                es_primo = False\n",
    "                break\n",
    "        if es_primo:\n",
    "            primos_list.append(i)\n",
    "    return primos_list\n",
    "\n",
    "print(primos(1,200))"
   ]
  },
  {
   "cell_type": "markdown",
   "id": "db22ea94-8b64-49aa-bbd0-ed4f539bbc2b",
   "metadata": {},
   "source": [
    "Ej 11 - Conversión de Notas\n",
    "\n",
    "    Crea una función que reciba una lista de calificaciones en forma de letras (por ejemplo, [\"A\", \"B\", \"C\", \"A\", \"F\"]) y convierta cada calificación en un puntaje numérico (A=4, B=3, C=2, D=1, F=0). La función debe devolver el promedio de las calificaciones en números."
   ]
  },
  {
   "cell_type": "code",
   "execution_count": 50,
   "id": "ca4d8a45-d942-4b45-bad0-6ef0c46a3476",
   "metadata": {},
   "outputs": [
    {
     "name": "stdout",
     "output_type": "stream",
     "text": [
      "2.33\n"
     ]
    }
   ],
   "source": [
    "puntajes = {'A':4,'B':3,'C':2,'D':1,'E':0}\n",
    "def calificaciones(lista):\n",
    "    if(len(lista)) == 0:\n",
    "        return 0\n",
    "    return round(sum([(puntajes[x]) for x in lista])/len(lista),2)\n",
    "\n",
    "print(calificaciones(['A','C','D']))"
   ]
  },
  {
   "cell_type": "markdown",
   "id": "a4f08761-5c22-4363-89af-2b483acc8327",
   "metadata": {},
   "source": [
    "Ej 12 - Intersección de Listas\n",
    "\n",
    "    Desarrolla una función que reciba dos listas como parámetros y devuelva una lista que contenga únicamente los elementos comunes entre ambas (sin duplicados). Por ejemplo, si recibe [1, 2, 3, 4] y [3, 4, 5, 6], debería retornar [3, 4]."
   ]
  },
  {
   "cell_type": "code",
   "execution_count": 53,
   "id": "80163aea-1c68-449a-b7bd-4533ff20c9f1",
   "metadata": {},
   "outputs": [
    {
     "name": "stdout",
     "output_type": "stream",
     "text": [
      "[3, 4]\n"
     ]
    }
   ],
   "source": [
    "inter = lambda x, y : list(set(x) & set(y))\n",
    "print(inter([1, 2, 3, 4], [3, 4, 5, 6]))"
   ]
  },
  {
   "cell_type": "markdown",
   "id": "20e2f9c0-e108-402b-9d8c-33d3e8bf69d9",
   "metadata": {},
   "source": [
    "Ej 13 - Frecuencia de Caracteres\n",
    "\n",
    "    Escribe una función que reciba un string y devuelva un diccionario que indique la frecuencia de cada carácter en el string. Ejemplo: para la entrada \"hello\", el resultado debería ser {'h': 1, 'e': 1, 'l': 2, 'o': 1}."
   ]
  },
  {
   "cell_type": "code",
   "execution_count": 55,
   "id": "17503fe1-43d9-4dd6-963a-fa3a52b7fcb6",
   "metadata": {},
   "outputs": [
    {
     "name": "stdout",
     "output_type": "stream",
     "text": [
      "{'h': 1, 'e': 1, 'l': 2, 'o': 1}\n"
     ]
    }
   ],
   "source": [
    "def frecuencia(cadena):\n",
    "    res = {}\n",
    "    for c in cadena:\n",
    "        if c in res:\n",
    "            res[c] += 1\n",
    "        else:\n",
    "            res[c] = 1\n",
    "    return res\n",
    "\n",
    "print(frecuencia('hello'))"
   ]
  },
  {
   "cell_type": "markdown",
   "id": "0297d0b9-8a5a-4eae-8448-38852cee0774",
   "metadata": {},
   "source": [
    "Ej 14 - Combinación de Números con Objetivo\n",
    "\n",
    "    Crea una función que reciba una lista de números y un número objetivo. La función debe retornar una lista de pares de números que sumen el objetivo. Por ejemplo, para la lista [2, 4, 3, 5, -1] y el objetivo 4, el resultado sería [(2, 2), (3, 1), (-1, 5)]."
   ]
  },
  {
   "cell_type": "code",
   "execution_count": 59,
   "id": "e714b592-7d5c-4115-a046-db3227649791",
   "metadata": {},
   "outputs": [
    {
     "name": "stdout",
     "output_type": "stream",
     "text": [
      "[(2, 2), (5, -1), (-1, 5)]\n"
     ]
    }
   ],
   "source": [
    "def pares(lista, num):\n",
    "    res = []\n",
    "    for i in lista:\n",
    "        for j in lista:\n",
    "            if i+j == num:\n",
    "                res.append((i,j))\n",
    "\n",
    "    return res\n",
    "\n",
    "print(pares([2, 4, 3, 5, -1], 4))"
   ]
  },
  {
   "cell_type": "markdown",
   "id": "19cd8d24-d07e-4a6a-93ea-174be7b5f538",
   "metadata": {},
   "source": [
    "Ej 15 - Número Feliz\n",
    "\n",
    "    Desarrolla una función que reciba un número entero y determine si es un \"número feliz\". Un número feliz es aquel que eventualmente alcanza el 1 cuando se reemplaza por la suma de los cuadrados de sus dígitos de forma repetida. Si el número no es feliz, eventualmente entra en un ciclo que no incluye el 1."
   ]
  },
  {
   "cell_type": "code",
   "execution_count": 69,
   "id": "f19db8cc-a577-4b18-a2ff-6b6545ec249e",
   "metadata": {},
   "outputs": [
    {
     "name": "stdout",
     "output_type": "stream",
     "text": [
      "¿El número 19 es feliz? True\n"
     ]
    }
   ],
   "source": [
    "def es_numero_feliz(n):\n",
    "    visitados = set()  # Mantener un registro de los números ya visitados para detectar ciclos\n",
    "\n",
    "    while n != 1 and n not in visitados:\n",
    "        visitados.add(n)\n",
    "        n = sum(int(digito) ** 2 for digito in str(n))  # Calcular la suma de los cuadrados de los dígitos\n",
    "\n",
    "    return n == 1  # Si n es 1, el número es feliz\n",
    "\n",
    "numero = 19\n",
    "print(f\"¿El número {numero} es feliz? {es_numero_feliz(numero)}\")"
   ]
  },
  {
   "cell_type": "markdown",
   "id": "afc797e0-28fc-40ce-9bd2-e89354d0993c",
   "metadata": {},
   "source": [
    "Ej 16 - Formato de String para Fecha\n",
    "\n",
    "    Escribe una función que reciba un string en el formato \"dd/mm/yyyy\" y devuelva un diccionario con las claves \"dia\", \"mes\" y \"año\". Por ejemplo, para la entrada \"23/11/2023\", debería devolver {'dia': 23, 'mes': 11, 'año': 2023}. Agrega validaciones para el formato de entrada."
   ]
  },
  {
   "cell_type": "code",
   "execution_count": 68,
   "id": "481286ab-c020-48e2-90c7-5fbf0991aa12",
   "metadata": {},
   "outputs": [
    {
     "name": "stdout",
     "output_type": "stream",
     "text": [
      "{'Dia': '12', 'Mes': '04', 'Anio': '1984'}\n",
      "bad format: 1/111/1111\n"
     ]
    }
   ],
   "source": [
    "import re\n",
    "\n",
    "def get_fecha(fecha):\n",
    "    r = re.compile('.{2}/.{2}/.{4}')\n",
    "    s = 'x/x/xxxx'\n",
    "    if len(fecha) == 10 and r.match(fecha):\n",
    "        spl = fecha.split('/')\n",
    "        print({'Dia':spl[0], 'Mes':spl[1], 'Anio':spl[2]})\n",
    "    else:\n",
    "        print(f'bad format: {fecha}')\n",
    "\n",
    "get_fecha('12/04/1984')\n",
    "get_fecha('1/111/1111')\n"
   ]
  },
  {
   "cell_type": "markdown",
   "id": "0234ad76-f5f3-48a4-8f1b-50169bc03e52",
   "metadata": {},
   "source": [
    "Ej 17 - Números Amistosos\n",
    "\n",
    "    Crea una función que reciba dos números y determine si son \"números amistosos\". Dos números son amistosos si la suma de los divisores propios de cada número es igual al otro número. Por ejemplo, 220 y 284 son amistosos."
   ]
  },
  {
   "cell_type": "code",
   "execution_count": 78,
   "id": "62fded81-bf57-46f7-bde0-b56ec4533f4d",
   "metadata": {},
   "outputs": [
    {
     "name": "stdout",
     "output_type": "stream",
     "text": [
      "True\n"
     ]
    }
   ],
   "source": [
    "def amistosos(a, b):\n",
    "    div_a = []\n",
    "    for i in range(1,a//2+1):\n",
    "        if a % i == 0:\n",
    "            div_a.append(i)\n",
    "\n",
    "    div_b = [i for i in range(1, b // 2 + 1) if b % i == 0]\n",
    "    \n",
    "    #print(sum(div_a))\n",
    "    #print(sum(div_b))\n",
    "    return sum(div_a) == b and sum(div_b) == a\n",
    "\n",
    "print(amistosos(220, 284))"
   ]
  },
  {
   "cell_type": "markdown",
   "id": "6c23d8d0-e508-4039-bf7b-fe9a8543de14",
   "metadata": {},
   "source": [
    "Ej 18 - Evaluación de Expresiones Aritméticas\n",
    "\n",
    "    Escribe una función que reciba un string que contenga una expresión aritmética simple (por ejemplo, \"3 + 5 * 2 - 1\") y devuelva el resultado de la evaluación. No uses la función eval de Python; implementa la lógica para soportar operaciones básicas como suma, resta, multiplicación y división."
   ]
  },
  {
   "cell_type": "code",
   "execution_count": 85,
   "id": "ef344a85-b7ee-48e7-805d-80af17fb5b21",
   "metadata": {},
   "outputs": [
    {
     "ename": "IndexError",
     "evalue": "pop from empty list",
     "output_type": "error",
     "traceback": [
      "\u001b[0;31m---------------------------------------------------------------------------\u001b[0m",
      "\u001b[0;31mIndexError\u001b[0m                                Traceback (most recent call last)",
      "Cell \u001b[0;32mIn[85], line 54\u001b[0m\n\u001b[1;32m     52\u001b[0m \u001b[38;5;66;03m# Ejemplo de uso\u001b[39;00m\n\u001b[1;32m     53\u001b[0m expresion \u001b[38;5;241m=\u001b[39m \u001b[38;5;124m\"\u001b[39m\u001b[38;5;124m3 + 5 * (2 - 8) / 2\u001b[39m\u001b[38;5;124m\"\u001b[39m\n\u001b[0;32m---> 54\u001b[0m \u001b[38;5;28mprint\u001b[39m(evaluar_expresion(expresion))\n",
      "Cell \u001b[0;32mIn[85], line 50\u001b[0m, in \u001b[0;36mevaluar_expresion\u001b[0;34m(expresion)\u001b[0m\n\u001b[1;32m     48\u001b[0m \u001b[38;5;66;03m# Preprocesar la expresión para eliminar espacios en blanco\u001b[39;00m\n\u001b[1;32m     49\u001b[0m expresion \u001b[38;5;241m=\u001b[39m expresion\u001b[38;5;241m.\u001b[39mreplace(\u001b[38;5;124m'\u001b[39m\u001b[38;5;124m \u001b[39m\u001b[38;5;124m'\u001b[39m, \u001b[38;5;124m'\u001b[39m\u001b[38;5;124m'\u001b[39m)\n\u001b[0;32m---> 50\u001b[0m \u001b[38;5;28;01mreturn\u001b[39;00m resolver_parentesis(expresion)\n",
      "Cell \u001b[0;32mIn[85], line 46\u001b[0m, in \u001b[0;36mevaluar_expresion.<locals>.resolver_parentesis\u001b[0;34m(exp)\u001b[0m\n\u001b[1;32m     44\u001b[0m     resultado \u001b[38;5;241m=\u001b[39m evaluar_simple(exp[apertura \u001b[38;5;241m+\u001b[39m \u001b[38;5;241m1\u001b[39m:cierre])\n\u001b[1;32m     45\u001b[0m     exp \u001b[38;5;241m=\u001b[39m exp[:apertura] \u001b[38;5;241m+\u001b[39m \u001b[38;5;28mstr\u001b[39m(resultado) \u001b[38;5;241m+\u001b[39m exp[cierre \u001b[38;5;241m+\u001b[39m \u001b[38;5;241m1\u001b[39m:]\n\u001b[0;32m---> 46\u001b[0m \u001b[38;5;28;01mreturn\u001b[39;00m evaluar_simple(exp)\n",
      "Cell \u001b[0;32mIn[85], line 36\u001b[0m, in \u001b[0;36mevaluar_expresion.<locals>.evaluar_simple\u001b[0;34m(exp)\u001b[0m\n\u001b[1;32m     34\u001b[0m     op \u001b[38;5;241m=\u001b[39m operadores\u001b[38;5;241m.\u001b[39mpop()\n\u001b[1;32m     35\u001b[0m     b \u001b[38;5;241m=\u001b[39m numeros\u001b[38;5;241m.\u001b[39mpop()\n\u001b[0;32m---> 36\u001b[0m     a \u001b[38;5;241m=\u001b[39m numeros\u001b[38;5;241m.\u001b[39mpop()\n\u001b[1;32m     37\u001b[0m     numeros\u001b[38;5;241m.\u001b[39mappend(operar(a, b, op))\n\u001b[1;32m     38\u001b[0m \u001b[38;5;28;01mreturn\u001b[39;00m numeros[\u001b[38;5;241m0\u001b[39m]\n",
      "\u001b[0;31mIndexError\u001b[0m: pop from empty list"
     ]
    }
   ],
   "source": [
    "def evaluar_expresion(expresion):\n",
    "    def operar(a, b, op):\n",
    "        if op == '+':\n",
    "            return a + b\n",
    "        elif op == '-':\n",
    "            return a - b\n",
    "        elif op == '*':\n",
    "            return a * b\n",
    "        elif op == '/':\n",
    "            return a / b\n",
    "    \n",
    "    def evaluar_simple(exp):\n",
    "        numeros = []\n",
    "        operadores = []\n",
    "        i = 0\n",
    "        while i < len(exp):\n",
    "            if exp[i].isdigit():\n",
    "                num = 0\n",
    "                while i < len(exp) and exp[i].isdigit():\n",
    "                    num = num * 10 + int(exp[i])\n",
    "                    i += 1\n",
    "                numeros.append(num)\n",
    "                i -= 1\n",
    "            elif exp[i] in '+-*/':\n",
    "                while (operadores and operadores[-1] in '*/' and exp[i] in '+-') or \\\n",
    "                      (operadores and operadores[-1] in '*/' and exp[i] in '*/'):\n",
    "                    op = operadores.pop()\n",
    "                    b = numeros.pop()\n",
    "                    a = numeros.pop()\n",
    "                    numeros.append(operar(a, b, op))\n",
    "                operadores.append(exp[i])\n",
    "            i += 1\n",
    "        while operadores:\n",
    "            op = operadores.pop()\n",
    "            b = numeros.pop()\n",
    "            a = numeros.pop()\n",
    "            numeros.append(operar(a, b, op))\n",
    "        return numeros[0]\n",
    "\n",
    "    def resolver_parentesis(exp):\n",
    "        while '(' in exp:\n",
    "            cierre = exp.index(')')\n",
    "            apertura = exp.rfind('(', 0, cierre)\n",
    "            resultado = evaluar_simple(exp[apertura + 1:cierre])\n",
    "            exp = exp[:apertura] + str(resultado) + exp[cierre + 1:]\n",
    "        return evaluar_simple(exp)\n",
    "\n",
    "    # Preprocesar la expresión para eliminar espacios en blanco\n",
    "    expresion = expresion.replace(' ', '')\n",
    "    return resolver_parentesis(expresion)\n",
    "\n",
    "# Ejemplo de uso\n",
    "expresion = \"3 + 5 * (2 - 8) / 2\"\n",
    "print(evaluar_expresion(expresion))  # Debería devolver el resultado de la expresión\n"
   ]
  },
  {
   "cell_type": "markdown",
   "id": "6affe23d-60d3-4f58-a975-199fc9c05fd3",
   "metadata": {},
   "source": [
    "Ej 19 - Recursión para Sumar Dígitos\n",
    "\n",
    "    Desarrolla una función recursiva que reciba un número entero y retorne la suma de sus dígitos. Por ejemplo, para el número 1234, la función debe retornar 10 (1 + 2 + 3 + 4)."
   ]
  },
  {
   "cell_type": "code",
   "execution_count": 81,
   "id": "24ed0ed3-1c53-450d-9e09-f781a61e7ac7",
   "metadata": {},
   "outputs": [
    {
     "data": {
      "text/plain": [
       "10"
      ]
     },
     "execution_count": 81,
     "metadata": {},
     "output_type": "execute_result"
    }
   ],
   "source": [
    "recursiva = lambda num : sum([int(n) for n in str(num)])\n",
    "\n",
    "recursiva(1234)\n",
    "        "
   ]
  },
  {
   "cell_type": "code",
   "execution_count": null,
   "id": "65fc92c5-b278-4d55-aeee-b6ece72debdd",
   "metadata": {},
   "outputs": [],
   "source": []
  }
 ],
 "metadata": {
  "kernelspec": {
   "display_name": "Python 3 (ipykernel)",
   "language": "python",
   "name": "python3"
  },
  "language_info": {
   "codemirror_mode": {
    "name": "ipython",
    "version": 3
   },
   "file_extension": ".py",
   "mimetype": "text/x-python",
   "name": "python",
   "nbconvert_exporter": "python",
   "pygments_lexer": "ipython3",
   "version": "3.12.4"
  }
 },
 "nbformat": 4,
 "nbformat_minor": 5
}
